{
  "cells": [
    {
      "cell_type": "code",
      "execution_count": null,
      "metadata": {
        "id": "S3dsmhX_wDjp"
      },
      "outputs": [],
      "source": [
        "import os\n",
        "import numpy as np\n",
        "import matplotlib.pyplot as plt\n",
        "import tensorflow as tf\n",
        "from tensorflow.keras.preprocessing.image import ImageDataGenerator\n",
        "from tensorflow.keras.callbacks import ModelCheckpoint\n",
        "from tensorflow.keras.layers import Conv2D, MaxPooling2D, Flatten, Dense, Dropout\n",
        "from tensorflow.keras.models import Sequential\n",
        "from tensorflow.keras.optimizers import Adam\n",
        "from tensorflow.keras.regularizers import l1, l2\n",
        "from PIL import Image, ImageFile\n",
        "ImageFile.LOAD_TRUNCATED_IMAGES = True"
      ]
    },
    {
      "cell_type": "code",
      "execution_count": null,
      "metadata": {
        "colab": {
          "base_uri": "https://localhost:8080/"
        },
        "id": "YW7bSAEMoggZ",
        "outputId": "e18df96b-00c2-45fe-a8d4-f55e2a1b7932"
      },
      "outputs": [
        {
          "name": "stdout",
          "output_type": "stream",
          "text": [
            "Mounted at /content/drive\n"
          ]
        }
      ],
      "source": [
        "# Mount Google Drive to access dataset\n",
        "from google.colab import drive\n",
        "drive.mount('/content/drive', force_remount=True)\n",
        "\n",
        "# Set up directory paths\n",
        "base_dir = '/content/drive/MyDrive/Dataset Gabungan II Crop + Background + Split'\n",
        "h5_dir = '/content/drive/MyDrive/2.h5'\n",
        "train_dir = os.path.join(base_dir, 'training')\n",
        "test_dir = os.path.join(base_dir, 'validation')"
      ]
    },
    {
      "cell_type": "code",
      "execution_count": null,
      "metadata": {
        "colab": {
          "base_uri": "https://localhost:8080/"
        },
        "id": "pQo5BNVxwMtv",
        "outputId": "6a7c1e43-ae06-49cf-fe84-80d198022548"
      },
      "outputs": [
        {
          "name": "stdout",
          "output_type": "stream",
          "text": [
            "Found 6744 images belonging to 6 classes.\n",
            "Found 418 images belonging to 6 classes.\n"
          ]
        }
      ],
      "source": [
        "# Set up data generators for training and validation\n",
        "train_datagen = ImageDataGenerator(rescale=1./255,\n",
        "                                   rotation_range=20,\n",
        "                                   brightness_range=(0.8,1.2),\n",
        "                                   horizontal_flip=True)\n",
        "\n",
        "val_datagen = ImageDataGenerator(rescale=1./255,\n",
        "                                 rotation_range=20,\n",
        "                                 brightness_range=(0.8,1.2),\n",
        "                                 horizontal_flip=True)\n",
        "\n",
        "train_generator = train_datagen.flow_from_directory(train_dir,\n",
        "                                                    target_size=(100, 100),\n",
        "                                                    batch_size=16,\n",
        "                                                    class_mode='categorical')\n",
        "\n",
        "val_generator = val_datagen.flow_from_directory(test_dir,\n",
        "                                                target_size=(100, 100),\n",
        "                                                batch_size=16,\n",
        "                                                class_mode='categorical')"
      ]
    },
    {
      "cell_type": "code",
      "execution_count": null,
      "metadata": {
        "id": "Jsi8UoRjwdVB"
      },
      "outputs": [],
      "source": [
        "# Define the model\n",
        "model = Sequential()\n",
        "\n",
        "# Add convolutional layers\n",
        "model.add(Conv2D(32, (3, 3), padding='same', activation='relu', input_shape=(100, 100, 3)))\n",
        "model.add(Conv2D(32, (3, 3), padding='same', activation='relu'))\n",
        "model.add(MaxPooling2D((2, 2)))\n",
        "\n",
        "model.add(Conv2D(64, (3, 3), padding='same', activation='relu'))\n",
        "model.add(Conv2D(64, (3, 3), padding='same', activation='relu'))\n",
        "model.add(MaxPooling2D((2, 2)))\n",
        "\n",
        "model.add(Conv2D(128, (3, 3), padding='same', activation='relu'))\n",
        "model.add(Conv2D(128, (3, 3), padding='same', activation='relu'))\n",
        "model.add(MaxPooling2D((2, 2)))\n",
        "\n",
        "# Add fully connected layers\n",
        "model.add(Flatten())\n",
        "model.add(Dense(256, activation='relu'))\n",
        "model.add(Dropout(0.5))\n",
        "model.add(Dense(128, activation='relu'))\n",
        "model.add(Dropout(0.5))\n",
        "model.add(Dense(6, activation='softmax'))\n",
        "\n",
        "# Compile the model\n",
        "opt = Adam(learning_rate=0.0001)\n",
        "model.compile(loss='categorical_crossentropy', optimizer=opt, metrics=['accuracy'])"
      ]
    },
    {
      "cell_type": "code",
      "execution_count": null,
      "metadata": {
        "id": "n0R7z5Gj6avQ"
      },
      "outputs": [],
      "source": [
        "# Load the pre-trained model from the .h5 file\n",
        "model = tf.keras.models.load_model(h5_dir)"
      ]
    },
    {
      "cell_type": "code",
      "execution_count": null,
      "metadata": {
        "id": "29YcYJURwTRw"
      },
      "outputs": [],
      "source": [
        "# Set up checkpoint callback\n",
        "checkpoint = ModelCheckpoint(\"CNN_Model1_Gabungan.h5\",\n",
        "                             monitor='val_accuracy',\n",
        "                             verbose=1,\n",
        "                             save_best_only=True,\n",
        "                             mode='max')"
      ]
    },
    {
      "cell_type": "code",
      "execution_count": null,
      "metadata": {
        "colab": {
          "background_save": true,
          "base_uri": "https://localhost:8080/"
        },
        "id": "NkGQFEMLwZki",
        "outputId": "9e62816c-13f6-4d79-a994-7ff988492711"
      },
      "outputs": [
        {
          "name": "stdout",
          "output_type": "stream",
          "text": [
            "Epoch 1/50\n",
            "422/422 [==============================] - ETA: 0s - loss: 0.8012 - accuracy: 0.7089\n",
            "Epoch 1: val_accuracy improved from -inf to 0.66029, saving model to CNN_Model1_Gabungan.h5\n",
            "422/422 [==============================] - 2702s 6s/step - loss: 0.8012 - accuracy: 0.7089 - val_loss: 0.9252 - val_accuracy: 0.6603\n",
            "Epoch 2/50\n",
            "422/422 [==============================] - ETA: 0s - loss: 0.7923 - accuracy: 0.7116\n",
            "Epoch 2: val_accuracy did not improve from 0.66029\n",
            "422/422 [==============================] - 598s 1s/step - loss: 0.7923 - accuracy: 0.7116 - val_loss: 0.9362 - val_accuracy: 0.6555\n",
            "Epoch 3/50\n",
            "422/422 [==============================] - ETA: 0s - loss: 0.7633 - accuracy: 0.7215\n",
            "Epoch 3: val_accuracy improved from 0.66029 to 0.66746, saving model to CNN_Model1_Gabungan.h5\n",
            "422/422 [==============================] - 600s 1s/step - loss: 0.7633 - accuracy: 0.7215 - val_loss: 0.9182 - val_accuracy: 0.6675\n",
            "Epoch 4/50\n",
            "422/422 [==============================] - ETA: 0s - loss: 0.7643 - accuracy: 0.7196\n",
            "Epoch 4: val_accuracy improved from 0.66746 to 0.67225, saving model to CNN_Model1_Gabungan.h5\n",
            "422/422 [==============================] - 586s 1s/step - loss: 0.7643 - accuracy: 0.7196 - val_loss: 0.9411 - val_accuracy: 0.6722\n",
            "Epoch 5/50\n",
            "422/422 [==============================] - ETA: 0s - loss: 0.7464 - accuracy: 0.7263\n",
            "Epoch 5: val_accuracy improved from 0.67225 to 0.67943, saving model to CNN_Model1_Gabungan.h5\n",
            "422/422 [==============================] - 597s 1s/step - loss: 0.7464 - accuracy: 0.7263 - val_loss: 0.9363 - val_accuracy: 0.6794\n",
            "Epoch 6/50\n",
            "422/422 [==============================] - ETA: 0s - loss: 0.7489 - accuracy: 0.7209\n",
            "Epoch 6: val_accuracy did not improve from 0.67943\n",
            "422/422 [==============================] - 596s 1s/step - loss: 0.7489 - accuracy: 0.7209 - val_loss: 0.9756 - val_accuracy: 0.6531\n",
            "Epoch 7/50\n",
            "422/422 [==============================] - ETA: 0s - loss: 0.7332 - accuracy: 0.7341\n",
            "Epoch 7: val_accuracy did not improve from 0.67943\n",
            "422/422 [==============================] - 584s 1s/step - loss: 0.7332 - accuracy: 0.7341 - val_loss: 0.9162 - val_accuracy: 0.6770\n",
            "Epoch 8/50\n",
            "422/422 [==============================] - ETA: 0s - loss: 0.7190 - accuracy: 0.7383\n",
            "Epoch 8: val_accuracy improved from 0.67943 to 0.71053, saving model to CNN_Model1_Gabungan.h5\n",
            "422/422 [==============================] - 596s 1s/step - loss: 0.7190 - accuracy: 0.7383 - val_loss: 0.9149 - val_accuracy: 0.7105\n",
            "Epoch 9/50\n",
            "422/422 [==============================] - ETA: 0s - loss: 0.7104 - accuracy: 0.7401\n",
            "Epoch 9: val_accuracy did not improve from 0.71053\n",
            "422/422 [==============================] - 597s 1s/step - loss: 0.7104 - accuracy: 0.7401 - val_loss: 0.9054 - val_accuracy: 0.6675\n",
            "Epoch 10/50\n",
            "422/422 [==============================] - ETA: 0s - loss: 0.7122 - accuracy: 0.7411\n",
            "Epoch 10: val_accuracy did not improve from 0.71053\n",
            "422/422 [==============================] - 598s 1s/step - loss: 0.7122 - accuracy: 0.7411 - val_loss: 1.0124 - val_accuracy: 0.6244\n",
            "Epoch 11/50\n",
            "422/422 [==============================] - ETA: 0s - loss: 0.6998 - accuracy: 0.7420\n",
            "Epoch 11: val_accuracy did not improve from 0.71053\n",
            "422/422 [==============================] - 586s 1s/step - loss: 0.6998 - accuracy: 0.7420 - val_loss: 0.9547 - val_accuracy: 0.6770\n",
            "Epoch 12/50\n",
            "422/422 [==============================] - ETA: 0s - loss: 0.6837 - accuracy: 0.7507\n",
            "Epoch 12: val_accuracy did not improve from 0.71053\n",
            "422/422 [==============================] - 595s 1s/step - loss: 0.6837 - accuracy: 0.7507 - val_loss: 0.9240 - val_accuracy: 0.6531\n",
            "Epoch 13/50\n",
            "422/422 [==============================] - ETA: 0s - loss: 0.6697 - accuracy: 0.7519\n",
            "Epoch 13: val_accuracy did not improve from 0.71053\n",
            "422/422 [==============================] - 599s 1s/step - loss: 0.6697 - accuracy: 0.7519 - val_loss: 0.9827 - val_accuracy: 0.6555\n",
            "Epoch 14/50\n",
            "422/422 [==============================] - ETA: 0s - loss: 0.6852 - accuracy: 0.7469\n",
            "Epoch 14: val_accuracy did not improve from 0.71053\n",
            "422/422 [==============================] - 588s 1s/step - loss: 0.6852 - accuracy: 0.7469 - val_loss: 0.9652 - val_accuracy: 0.6746\n",
            "Epoch 15/50\n",
            "422/422 [==============================] - ETA: 0s - loss: 0.6711 - accuracy: 0.7607\n",
            "Epoch 15: val_accuracy did not improve from 0.71053\n",
            "422/422 [==============================] - 598s 1s/step - loss: 0.6711 - accuracy: 0.7607 - val_loss: 0.9111 - val_accuracy: 0.6770\n",
            "Epoch 16/50\n",
            "422/422 [==============================] - ETA: 0s - loss: 0.6581 - accuracy: 0.7598\n",
            "Epoch 16: val_accuracy did not improve from 0.71053\n",
            "422/422 [==============================] - 589s 1s/step - loss: 0.6581 - accuracy: 0.7598 - val_loss: 0.9257 - val_accuracy: 0.6627\n",
            "Epoch 17/50\n",
            "422/422 [==============================] - ETA: 0s - loss: 0.6463 - accuracy: 0.7639\n",
            "Epoch 17: val_accuracy did not improve from 0.71053\n",
            "422/422 [==============================] - 592s 1s/step - loss: 0.6463 - accuracy: 0.7639 - val_loss: 0.9859 - val_accuracy: 0.6627\n",
            "Epoch 18/50\n",
            "422/422 [==============================] - ETA: 0s - loss: 0.6329 - accuracy: 0.7706\n",
            "Epoch 18: val_accuracy did not improve from 0.71053\n",
            "422/422 [==============================] - 604s 1s/step - loss: 0.6329 - accuracy: 0.7706 - val_loss: 1.0039 - val_accuracy: 0.6459\n",
            "Epoch 19/50\n",
            "422/422 [==============================] - ETA: 0s - loss: 0.6264 - accuracy: 0.7673\n",
            "Epoch 19: val_accuracy did not improve from 0.71053\n",
            "422/422 [==============================] - 591s 1s/step - loss: 0.6264 - accuracy: 0.7673 - val_loss: 0.9765 - val_accuracy: 0.6555\n",
            "Epoch 20/50\n",
            "422/422 [==============================] - ETA: 0s - loss: 0.6184 - accuracy: 0.7777\n",
            "Epoch 20: val_accuracy did not improve from 0.71053\n",
            "422/422 [==============================] - 591s 1s/step - loss: 0.6184 - accuracy: 0.7777 - val_loss: 0.9915 - val_accuracy: 0.6651\n",
            "Epoch 21/50\n",
            "422/422 [==============================] - ETA: 0s - loss: 0.6267 - accuracy: 0.7733\n",
            "Epoch 21: val_accuracy did not improve from 0.71053\n",
            "422/422 [==============================] - 589s 1s/step - loss: 0.6267 - accuracy: 0.7733 - val_loss: 1.0186 - val_accuracy: 0.6579\n",
            "Epoch 22/50\n",
            "422/422 [==============================] - ETA: 0s - loss: 0.6156 - accuracy: 0.7831\n",
            "Epoch 22: val_accuracy did not improve from 0.71053\n",
            "422/422 [==============================] - 589s 1s/step - loss: 0.6156 - accuracy: 0.7831 - val_loss: 1.0289 - val_accuracy: 0.6627\n",
            "Epoch 23/50\n",
            "422/422 [==============================] - ETA: 0s - loss: 0.5923 - accuracy: 0.7874\n",
            "Epoch 23: val_accuracy did not improve from 0.71053\n",
            "422/422 [==============================] - 590s 1s/step - loss: 0.5923 - accuracy: 0.7874 - val_loss: 0.9339 - val_accuracy: 0.6866\n",
            "Epoch 24/50\n",
            "422/422 [==============================] - ETA: 0s - loss: 0.5843 - accuracy: 0.7875\n",
            "Epoch 24: val_accuracy did not improve from 0.71053\n",
            "422/422 [==============================] - 583s 1s/step - loss: 0.5843 - accuracy: 0.7875 - val_loss: 0.9876 - val_accuracy: 0.6890\n",
            "Epoch 25/50\n",
            "422/422 [==============================] - ETA: 0s - loss: 0.5975 - accuracy: 0.7843\n",
            "Epoch 25: val_accuracy did not improve from 0.71053\n",
            "422/422 [==============================] - 593s 1s/step - loss: 0.5975 - accuracy: 0.7843 - val_loss: 0.9737 - val_accuracy: 0.6627\n",
            "Epoch 26/50\n",
            "422/422 [==============================] - ETA: 0s - loss: 0.5799 - accuracy: 0.7921\n",
            "Epoch 26: val_accuracy did not improve from 0.71053\n",
            "422/422 [==============================] - 584s 1s/step - loss: 0.5799 - accuracy: 0.7921 - val_loss: 1.0332 - val_accuracy: 0.6483\n",
            "Epoch 27/50\n",
            "422/422 [==============================] - ETA: 0s - loss: 0.5758 - accuracy: 0.7834\n",
            "Epoch 27: val_accuracy did not improve from 0.71053\n",
            "422/422 [==============================] - 586s 1s/step - loss: 0.5758 - accuracy: 0.7834 - val_loss: 0.9987 - val_accuracy: 0.6483\n",
            "Epoch 28/50\n",
            "422/422 [==============================] - ETA: 0s - loss: 0.5669 - accuracy: 0.7905\n",
            "Epoch 28: val_accuracy did not improve from 0.71053\n",
            "422/422 [==============================] - 586s 1s/step - loss: 0.5669 - accuracy: 0.7905 - val_loss: 0.9942 - val_accuracy: 0.6675\n",
            "Epoch 29/50\n",
            "422/422 [==============================] - ETA: 0s - loss: 0.5619 - accuracy: 0.7952\n",
            "Epoch 29: val_accuracy did not improve from 0.71053\n",
            "422/422 [==============================] - 599s 1s/step - loss: 0.5619 - accuracy: 0.7952 - val_loss: 0.9986 - val_accuracy: 0.6842\n",
            "Epoch 30/50\n",
            "422/422 [==============================] - ETA: 0s - loss: 0.5398 - accuracy: 0.8044\n",
            "Epoch 30: val_accuracy did not improve from 0.71053\n",
            "422/422 [==============================] - 598s 1s/step - loss: 0.5398 - accuracy: 0.8044 - val_loss: 1.0053 - val_accuracy: 0.6890\n",
            "Epoch 31/50\n",
            "422/422 [==============================] - ETA: 0s - loss: 0.5470 - accuracy: 0.8013\n",
            "Epoch 31: val_accuracy did not improve from 0.71053\n",
            "422/422 [==============================] - 592s 1s/step - loss: 0.5470 - accuracy: 0.8013 - val_loss: 1.0526 - val_accuracy: 0.6507\n",
            "Epoch 32/50\n",
            "422/422 [==============================] - ETA: 0s - loss: 0.5461 - accuracy: 0.7995\n",
            "Epoch 32: val_accuracy did not improve from 0.71053\n",
            "422/422 [==============================] - 581s 1s/step - loss: 0.5461 - accuracy: 0.7995 - val_loss: 1.0436 - val_accuracy: 0.6818\n",
            "Epoch 33/50\n",
            "422/422 [==============================] - ETA: 0s - loss: 0.5437 - accuracy: 0.8013\n",
            "Epoch 33: val_accuracy did not improve from 0.71053\n",
            "422/422 [==============================] - 587s 1s/step - loss: 0.5437 - accuracy: 0.8013 - val_loss: 0.9924 - val_accuracy: 0.6459\n",
            "Epoch 34/50\n",
            "422/422 [==============================] - ETA: 0s - loss: 0.5376 - accuracy: 0.8058\n",
            "Epoch 34: val_accuracy did not improve from 0.71053\n",
            "422/422 [==============================] - 601s 1s/step - loss: 0.5376 - accuracy: 0.8058 - val_loss: 1.0652 - val_accuracy: 0.6627\n",
            "Epoch 35/50\n",
            "422/422 [==============================] - ETA: 0s - loss: 0.5318 - accuracy: 0.8013\n",
            "Epoch 35: val_accuracy did not improve from 0.71053\n",
            "422/422 [==============================] - 590s 1s/step - loss: 0.5318 - accuracy: 0.8013 - val_loss: 0.9970 - val_accuracy: 0.6746\n",
            "Epoch 36/50\n",
            "422/422 [==============================] - ETA: 0s - loss: 0.5101 - accuracy: 0.8188\n",
            "Epoch 36: val_accuracy did not improve from 0.71053\n",
            "422/422 [==============================] - 600s 1s/step - loss: 0.5101 - accuracy: 0.8188 - val_loss: 1.1269 - val_accuracy: 0.6603\n",
            "Epoch 37/50\n",
            "422/422 [==============================] - ETA: 0s - loss: 0.5263 - accuracy: 0.8060\n",
            "Epoch 37: val_accuracy did not improve from 0.71053\n",
            "422/422 [==============================] - 584s 1s/step - loss: 0.5263 - accuracy: 0.8060 - val_loss: 1.0089 - val_accuracy: 0.6746\n",
            "Epoch 38/50\n",
            "422/422 [==============================] - ETA: 0s - loss: 0.4980 - accuracy: 0.8192\n",
            "Epoch 38: val_accuracy did not improve from 0.71053\n",
            "422/422 [==============================] - 598s 1s/step - loss: 0.4980 - accuracy: 0.8192 - val_loss: 1.0487 - val_accuracy: 0.6555\n",
            "Epoch 39/50\n",
            "422/422 [==============================] - ETA: 0s - loss: 0.5041 - accuracy: 0.8164\n",
            "Epoch 39: val_accuracy did not improve from 0.71053\n",
            "422/422 [==============================] - 600s 1s/step - loss: 0.5041 - accuracy: 0.8164 - val_loss: 1.0592 - val_accuracy: 0.6555\n",
            "Epoch 40/50\n",
            "422/422 [==============================] - ETA: 0s - loss: 0.4940 - accuracy: 0.8233\n",
            "Epoch 40: val_accuracy did not improve from 0.71053\n",
            "422/422 [==============================] - 602s 1s/step - loss: 0.4940 - accuracy: 0.8233 - val_loss: 1.0650 - val_accuracy: 0.6794\n",
            "Epoch 41/50\n",
            "422/422 [==============================] - ETA: 0s - loss: 0.4854 - accuracy: 0.8253\n",
            "Epoch 41: val_accuracy did not improve from 0.71053\n",
            "422/422 [==============================] - 594s 1s/step - loss: 0.4854 - accuracy: 0.8253 - val_loss: 1.1611 - val_accuracy: 0.6507\n",
            "Epoch 42/50\n",
            "422/422 [==============================] - ETA: 0s - loss: 0.4699 - accuracy: 0.8268\n",
            "Epoch 42: val_accuracy did not improve from 0.71053\n",
            "422/422 [==============================] - 596s 1s/step - loss: 0.4699 - accuracy: 0.8268 - val_loss: 1.1814 - val_accuracy: 0.6579\n",
            "Epoch 43/50\n",
            "422/422 [==============================] - ETA: 0s - loss: 0.4786 - accuracy: 0.8255\n",
            "Epoch 43: val_accuracy did not improve from 0.71053\n",
            "422/422 [==============================] - 592s 1s/step - loss: 0.4786 - accuracy: 0.8255 - val_loss: 1.0195 - val_accuracy: 0.6794\n",
            "Epoch 44/50\n",
            "422/422 [==============================] - ETA: 0s - loss: 0.4830 - accuracy: 0.8270\n",
            "Epoch 44: val_accuracy did not improve from 0.71053\n",
            "422/422 [==============================] - 608s 1s/step - loss: 0.4830 - accuracy: 0.8270 - val_loss: 1.2378 - val_accuracy: 0.6531\n",
            "Epoch 45/50\n",
            "422/422 [==============================] - ETA: 0s - loss: 0.4719 - accuracy: 0.8276\n",
            "Epoch 45: val_accuracy did not improve from 0.71053\n",
            "422/422 [==============================] - 585s 1s/step - loss: 0.4719 - accuracy: 0.8276 - val_loss: 1.1085 - val_accuracy: 0.6699\n",
            "Epoch 46/50\n",
            "422/422 [==============================] - ETA: 0s - loss: 0.4659 - accuracy: 0.8280\n",
            "Epoch 46: val_accuracy did not improve from 0.71053\n",
            "422/422 [==============================] - 599s 1s/step - loss: 0.4659 - accuracy: 0.8280 - val_loss: 1.1720 - val_accuracy: 0.6579\n",
            "Epoch 47/50\n",
            "422/422 [==============================] - ETA: 0s - loss: 0.4588 - accuracy: 0.8276\n",
            "Epoch 47: val_accuracy did not improve from 0.71053\n",
            "422/422 [==============================] - 589s 1s/step - loss: 0.4588 - accuracy: 0.8276 - val_loss: 1.0796 - val_accuracy: 0.6627\n",
            "Epoch 48/50\n",
            "422/422 [==============================] - ETA: 0s - loss: 0.4538 - accuracy: 0.8320\n",
            "Epoch 48: val_accuracy did not improve from 0.71053\n",
            "422/422 [==============================] - 598s 1s/step - loss: 0.4538 - accuracy: 0.8320 - val_loss: 1.1055 - val_accuracy: 0.6627\n",
            "Epoch 49/50\n",
            "422/422 [==============================] - ETA: 0s - loss: 0.4540 - accuracy: 0.8364\n",
            "Epoch 49: val_accuracy did not improve from 0.71053\n",
            "422/422 [==============================] - 586s 1s/step - loss: 0.4540 - accuracy: 0.8364 - val_loss: 1.1100 - val_accuracy: 0.6651\n",
            "Epoch 50/50\n",
            "361/422 [========================>.....] - ETA: 1:23 - loss: 0.4586 - accuracy: 0.8320"
          ]
        }
      ],
      "source": [
        "# Train the model\n",
        "history = model.fit(train_generator,\n",
        "                    epochs=50,\n",
        "                    validation_data=val_generator,\n",
        "                    callbacks=[checkpoint])"
      ]
    },
    {
      "cell_type": "code",
      "execution_count": null,
      "metadata": {
        "id": "G_PQZ44SwWwp"
      },
      "outputs": [],
      "source": [
        "# Re-evaluate the model\n",
        "loss, acc = model.evaluate(val_generator, verbose=2)\n",
        "print(\"Accuracy: {:5.2f}%\".format(100 * acc))"
      ]
    },
    {
      "cell_type": "code",
      "execution_count": null,
      "metadata": {
        "id": "8dI0QtcBxDvn"
      },
      "outputs": [],
      "source": [
        "acc = history.history['accuracy']\n",
        "val_acc = history.history['val_accuracy']\n",
        "loss = history.history['loss']\n",
        "val_loss = history.history['val_loss']\n",
        "\n",
        "epochs = range(len(acc))"
      ]
    },
    {
      "cell_type": "code",
      "execution_count": null,
      "metadata": {
        "id": "ast6SDlwxD_7"
      },
      "outputs": [],
      "source": [
        "# Create a figure with two subplots\n",
        "fig, ax = plt.subplots(nrows=1, ncols=2, figsize=(12, 6))\n",
        "\n",
        "# Plotting accuracy\n",
        "ax[0].plot(epochs, acc, 'r', linewidth=2, label='Training Accuracy')\n",
        "ax[0].plot(epochs, val_acc, 'b', linewidth=2, label='Validation Accuracy')\n",
        "ax[0].set_title('Training and Validation Accuracy', fontsize=16)\n",
        "ax[0].set_xlabel('Epoch', fontsize=14)\n",
        "ax[0].set_ylabel('Accuracy', fontsize=14)\n",
        "ax[0].legend(loc='lower right', fontsize=12)\n",
        "ax[0].grid()\n",
        "ax[0].tick_params(axis='both', labelsize=12)\n",
        "\n",
        "# Plotting loss\n",
        "ax[1].plot(epochs, loss, 'r', linewidth=2, label='Training Loss')\n",
        "ax[1].plot(epochs, val_loss, 'b', linewidth=2, label='Validation Loss')\n",
        "ax[1].set_title('Training and Validation Loss', fontsize=16)\n",
        "ax[1].set_xlabel('Epoch', fontsize=14)\n",
        "ax[1].set_ylabel('Loss', fontsize=14)\n",
        "ax[1].legend(loc='upper right', fontsize=12)\n",
        "ax[1].grid()\n",
        "ax[1].tick_params(axis='both', labelsize=12)\n",
        "\n",
        "plt.show()"
      ]
    },
    {
      "cell_type": "code",
      "execution_count": null,
      "metadata": {
        "id": "to4huGqpxIBK"
      },
      "outputs": [],
      "source": [
        "# Get the predicted labels for all images in the cross validation set\n",
        "pred = model.predict(val_generator)\n",
        "predicted_labels = np.argmax(pred, axis=1)\n",
        "\n",
        "# Get the true labels for all images in the cross validation set\n",
        "true_labels = val_generator.classes\n",
        "\n",
        "# Get the filenames of the images in the cross validation set\n",
        "filenames = val_generator.filenames\n",
        "\n",
        "# Get the indices of the misclassified images\n",
        "misclassified_indices = np.where(predicted_labels != true_labels)[0]\n",
        "\n",
        "# Get the misclassified images and their true and predicted labels\n",
        "misclassified_images = []\n",
        "misclassified_true_labels = []\n",
        "misclassified_predicted_labels = []\n",
        "\n",
        "for i in misclassified_indices:\n",
        "    misclassified_images.append(filenames[i])\n",
        "    misclassified_true_labels.append(true_labels[i])\n",
        "    misclassified_predicted_labels.append(predicted_labels[i])"
      ]
    },
    {
      "cell_type": "code",
      "execution_count": null,
      "metadata": {
        "id": "B_aIcuQ9xKNn"
      },
      "outputs": [],
      "source": [
        "# Display some of the misclassified images\n",
        "num_images_to_display = 36\n",
        "fig, axes = plt.subplots(6, 6, figsize=(12, 12))\n",
        "axes = axes.ravel()\n",
        "\n",
        "# Map class indices to class names\n",
        "class_names = {v: k for k, v in val_generator.class_indices.items()}\n",
        "\n",
        "for i in range(num_images_to_display):\n",
        "    img = Image.open(os.path.join(test_dir, misclassified_images[i]))\n",
        "    true_label = class_names[misclassified_true_labels[i]]\n",
        "    predicted_label = class_names[misclassified_predicted_labels[i]]\n",
        "    axes[i].imshow(img)\n",
        "    axes[i].set_title(\"True: {}\\nPredicted: {}\".format(true_label, predicted_label), fontsize=10)\n",
        "    axes[i].axis('off')\n",
        "plt.tight_layout()\n",
        "plt.show()"
      ]
    },
    {
      "cell_type": "code",
      "execution_count": null,
      "metadata": {
        "id": "Ma6f218FMBiB"
      },
      "outputs": [],
      "source": [
        "# Print the misclassified images and their true and predicted labels\n",
        "print(\"Misclassified Images:\")\n",
        "for i in range(len(misclassified_images)):\n",
        "    print(\"Image:\", misclassified_images[i], \"True Label:\", misclassified_true_labels[i], \"Predicted Label:\", misclassified_predicted_labels[i])"
      ]
    }
  ],
  "metadata": {
    "colab": {
      "provenance": []
    },
    "gpuClass": "standard",
    "kernelspec": {
      "display_name": "Python 3",
      "name": "python3"
    },
    "language_info": {
      "name": "python"
    }
  },
  "nbformat": 4,
  "nbformat_minor": 0
}