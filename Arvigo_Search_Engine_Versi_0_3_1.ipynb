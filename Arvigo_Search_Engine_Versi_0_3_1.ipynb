{
  "nbformat": 4,
  "nbformat_minor": 0,
  "metadata": {
    "colab": {
      "provenance": [],
      "collapsed_sections": [
        "fmeQLO-0oDMn",
        "r6Xd7BXVoeV9",
        "o8XfHvB-oj_M",
        "Y_AmVfSnPCKf"
      ]
    },
    "kernelspec": {
      "name": "python3",
      "display_name": "Python 3"
    },
    "language_info": {
      "name": "python"
    }
  },
  "cells": [
    {
      "cell_type": "markdown",
      "source": [
        "### **Preparing Environment**"
      ],
      "metadata": {
        "id": "0fLNzsfbO6vQ"
      }
    },
    {
      "cell_type": "code",
      "source": [
        "!pip install fuzzywuzzy"
      ],
      "metadata": {
        "id": "TkybSdAd4ouO",
        "colab": {
          "base_uri": "https://localhost:8080/"
        },
        "outputId": "5e3e0c6a-bff7-47fc-f407-c10225fb90ee"
      },
      "execution_count": 1,
      "outputs": [
        {
          "output_type": "stream",
          "name": "stdout",
          "text": [
            "Looking in indexes: https://pypi.org/simple, https://us-python.pkg.dev/colab-wheels/public/simple/\n",
            "Collecting fuzzywuzzy\n",
            "  Downloading fuzzywuzzy-0.18.0-py2.py3-none-any.whl (18 kB)\n",
            "Installing collected packages: fuzzywuzzy\n",
            "Successfully installed fuzzywuzzy-0.18.0\n"
          ]
        }
      ]
    },
    {
      "cell_type": "code",
      "source": [
        "import re\n",
        "import nltk\n",
        "import random\n",
        "import requests\n",
        "import numpy as np\n",
        "import pandas as pd\n",
        "\n",
        "from fuzzywuzzy import fuzz\n",
        "from nltk.util import ngrams\n",
        "from nltk.corpus import stopwords\n",
        "from nltk.stem import PorterStemmer\n",
        "from nltk.tokenize import word_tokenize\n",
        "from nltk.metrics.distance import edit_distance\n",
        "from sklearn.metrics.pairwise import cosine_similarity\n",
        "from sklearn.feature_extraction.text import TfidfVectorizer"
      ],
      "metadata": {
        "id": "miETRz_r4nqb",
        "colab": {
          "base_uri": "https://localhost:8080/"
        },
        "outputId": "8937046a-62b4-41bd-c3e2-988387eb5f29"
      },
      "execution_count": 2,
      "outputs": [
        {
          "output_type": "stream",
          "name": "stderr",
          "text": [
            "/usr/local/lib/python3.10/dist-packages/fuzzywuzzy/fuzz.py:11: UserWarning: Using slow pure-python SequenceMatcher. Install python-Levenshtein to remove this warning\n",
            "  warnings.warn('Using slow pure-python SequenceMatcher. Install python-Levenshtein to remove this warning')\n"
          ]
        }
      ]
    },
    {
      "cell_type": "code",
      "source": [
        "nltk.download('punkt')\n",
        "nltk.download('stopwords')"
      ],
      "metadata": {
        "colab": {
          "base_uri": "https://localhost:8080/"
        },
        "id": "da8GCGDGn70N",
        "outputId": "a2219f7b-027c-400c-c59a-716db1e06f10"
      },
      "execution_count": 3,
      "outputs": [
        {
          "output_type": "stream",
          "name": "stderr",
          "text": [
            "[nltk_data] Downloading package punkt to /root/nltk_data...\n",
            "[nltk_data]   Unzipping tokenizers/punkt.zip.\n",
            "[nltk_data] Downloading package stopwords to /root/nltk_data...\n",
            "[nltk_data]   Unzipping corpora/stopwords.zip.\n"
          ]
        },
        {
          "output_type": "execute_result",
          "data": {
            "text/plain": [
              "True"
            ]
          },
          "metadata": {},
          "execution_count": 3
        }
      ]
    },
    {
      "cell_type": "markdown",
      "source": [
        "### **Dummy Dataset**"
      ],
      "metadata": {
        "id": "fmeQLO-0oDMn"
      }
    },
    {
      "cell_type": "code",
      "source": [
        "# id = list(range(1, 101))"
      ],
      "metadata": {
        "id": "OY1mg2-xoD8B"
      },
      "execution_count": 4,
      "outputs": []
    },
    {
      "cell_type": "code",
      "source": [
        "# name = [\n",
        "#     'Sepatu Sneakers', 'Tas Ransel Stylish', 'Kemeja Flanel Modern', 'Celana Jeans Slim Fit', 'Topi Fedora Elegan',\n",
        "#     'Kacamata Retro Vintage', 'Jam Tangan Mewah', 'Dompet Kulit Asli', 'Perhiasan Emas Murni', 'Parfum Wangi Floral',\n",
        "#     'Gelang Fashion Trendy', 'Baju Renang Sporty', 'Topi Baseball Classic', 'Kacamata Hitam Stylish',\n",
        "#     'Jam Dinding Klasik Vintage', 'Tas Selempang Chic', 'Celana Panjang Casual', 'Kaos Polos Basic', 'Baju Koko Modern',\n",
        "#     'Sepatu Formal Elegan', 'Tas Makeup Portable', 'Jas Pria Slim Fit', 'Kalung Mutiara Mewah', 'Pashmina Syar\\'i Terbaru',\n",
        "#     'Topi Trucker Trendy', 'Dompet Kartu Minimalis', 'Anting Emas Cantik', 'Lipstik Matte Long-lasting',\n",
        "#     'Sepatu High Heels Glamor', 'Jaket Kulit Stylish', 'Kemeja Batik Klasik', 'Celana Pendek Denim', 'Kaos Sablon Casual',\n",
        "#     'Tas Laptop Stylish', 'Blazer Wanita Modern', 'Gelang Berlian Mewah', 'Parfum Pria Maskulin', 'Tas Pesta Glamor',\n",
        "#     'Kalung Choker Trendy', 'Pashmina Rajut Stylish', 'Topi Keren Stylish', 'Dompet Wanita Stylish', 'Anting Stud Elegant',\n",
        "#     'Lipstik Glossy Vibrant', 'Sepatu Boots Trendy', 'Sweater Rajut Hangat', 'Celana Jogger Casual', 'Kemeja Putih Formal',\n",
        "#     'Tas Selempang Kulit', 'Perhiasan Perak Elegan', 'Sepatu Sporty', 'Rok Mini Trendy', 'Baju Kaos Grafis', 'Topi Snapback',\n",
        "#     'Dompet Lipat Stylish', 'Anting Gantung Unik', 'Lipstik Satin Matte', 'Sepatu Loafer Casual', 'Celana Chino Slim Fit',\n",
        "#     'Jas Blazer Slim Fit', 'Tas Tote Bag Stylish', 'Gelang Manik-Manik', 'Parfum Floral Fruity', 'Sepatu Sandal Santai',\n",
        "#     'Blouse Wanita Elegan', 'Sweater Hoodie Sporty', 'Celana Legging Nyaman', 'Kemeja Kotak-Kotak', 'Tas Sling Bag Trendy',\n",
        "#     'Gelang Kulit Asli', 'Lipstik Velvet Matte', 'Sepatu Running Ringan', 'Baju Kebaya Elegan', 'Topi Beanie Hangat',\n",
        "#     'Dompet Zipper Minimalis', 'Kalung Liontin Cantik', 'Celana Cargo Praktis', 'Kaos Polo Pria', 'Tas Clutch Glamor',\n",
        "#     'Gelang Tangan Vintage', 'Parfum Woody Aromatic', 'Sepatu Loafer Formal', 'Rok Midi Trendy', 'Kacamata Oversize Stylish',\n",
        "#     'Tas Backpack Casual', 'Blouse Peplum Feminin', 'Celana Jogger Denim', 'Kemeja Putih Polos', 'Sepatu Sneakers Trendy',\n",
        "#     'Topi Bucket Stylish', 'Dompet Lipat Sederhana', 'Anting Hiasan Unik', 'Lipstik Metallic Glamor', 'Sepatu Slip-On Nyaman',\n",
        "#     'Baju Cardigan Hangat', 'Tas Crossbody Chic', 'Gelang Manik-Manik Etnik', 'Parfum Musk Sensual', 'Sweater Rajut Elegan',\n",
        "#     'Celana Kulot Modis'\n",
        "# ]"
      ],
      "metadata": {
        "id": "QeowBNcBoFih"
      },
      "execution_count": 5,
      "outputs": []
    },
    {
      "cell_type": "code",
      "source": [
        "# description = [\n",
        "#     'Sepatu Sneakers adalah pilihan yang sempurna untuk gaya kasual Anda. Didesain dengan detail modern dan kenyamanan maksimal.',\n",
        "#     'Tas Ransel Stylish memberikan gaya dan fungsi yang sempurna. Terbuat dari bahan berkualitas dan dilengkapi dengan banyak kantong.',\n",
        "#     'Kemeja Flanel Modern memberikan tampilan yang trendy dan nyaman. Cocok untuk berbagai kesempatan dan mudah dipadukan.',\n",
        "#     'Celana Jeans Slim Fit adalah pilihan yang tepat untuk penampilan yang kasual namun tetap stylish. Terbuat dari bahan denim berkualitas.',\n",
        "#     'Topi Fedora Elegan memberikan sentuhan klasik yang tak lekang oleh waktu. Cocok untuk melengkapi gaya retro atau modern.',\n",
        "#     'Kacamata Retro Vintage menambahkan gaya yang unik dan klasik pada penampilan Anda. Terbuat dari bahan berkualitas tinggi.',\n",
        "#     'Jam Tangan Mewah adalah aksesori yang sempurna untuk menunjukkan keanggunan dan kecanggihan. Didesain dengan detail yang memukau.',\n",
        "#     'Dompet Kulit Asli memberikan gaya dan fungsi yang tak tertandingi. Terbuat dari kulit asli berkualitas tinggi.',\n",
        "#     'Perhiasan Emas Murni adalah simbol kemewahan dan keindahan. Terbuat dari emas murni dengan desain yang elegan.',\n",
        "#     'Parfum Wangi Floral memberikan aroma yang segar dan feminin. Diciptakan dengan komposisi bunga-bungaan yang indah.',\n",
        "#     'Gelang Fashion Trendy memberikan sentuhan gaya yang modern dan berkelas pada pergelangan tangan Anda. Didesain dengan detail yang menarik.',\n",
        "#     'Baju Renang Sporty memberikan kenyamanan dan gaya yang tak terbantahkan di kolam renang. Terbuat dari bahan berkualitas dan tahan lama.',\n",
        "#     'Topi Baseball Classic adalah aksesori yang sempurna untuk melengkapi penampilan santai Anda. Terbuat dari bahan berkualitas dan nyaman dipakai.',\n",
        "#     'Kacamata Hitam Stylish memberikan perlindungan mata yang maksimal sambil tetap tampil modis. Didesain dengan gaya yang trendy.',\n",
        "#     'Jam Dinding Klasik Vintage memberikan sentuhan retro yang elegan pada ruangan Anda. Didesain dengan detail yang memukau.',\n",
        "#     'Tas Selempang Chic memberikan kenyamanan dan gaya yang tak tertandingi. Didesain dengan kompartemen yang cukup luas untuk keperluan sehari-hari.',\n",
        "#     'Celana Panjang Casual adalah pilihan yang nyaman dan stylish untuk berbagai kesempatan. Terbuat dari bahan berkualitas dan mudah dipadukan.',\n",
        "#     'Kaos Polos Basic adalah item yang wajib dimiliki dalam koleksi pakaian Anda. Cocok untuk gaya santai atau bisa juga dipadukan dengan aksesori.',\n",
        "#     'Baju Koko Modern memberikan tampilan yang elegan dan klasik. Cocok untuk berbagai kesempatan formal.',\n",
        "#     'Sepatu Formal Elegan memberikan tampilan yang anggun dan berkelas pada setiap acara formal. Didesain dengan detail yang sempurna.',\n",
        "#     'Tas Makeup Portable memudahkan Anda membawa dan menyimpan berbagai perlengkapan makeup dengan praktis. Didesain dengan kompartemen yang fungsional.',\n",
        "#     'Jas Pria Slim Fit memberikan tampilan yang modern dan berkelas pada setiap acara formal. Didesain dengan detail yang elegan.',\n",
        "#     'Kalung Mutiara Mewah adalah aksesori yang mewah dan mempesona. Terbuat dari mutiara asli dengan desain yang elegan.',\n",
        "#     'Pashmina Syar\\'i Terbaru memberikan gaya yang modis dan elegan untuk penampilan hijab Anda. Terbuat dari bahan yang nyaman dan mudah diatur.',\n",
        "#     'Topi Trucker Trendy menambahkan sentuhan gaya yang sporty pada penampilan Anda. Cocok untuk gaya kasual atau acara santai.',\n",
        "#     'Dompet Kartu Minimalis memberikan kemudahan dan gaya yang minimalis. Terbuat dari bahan berkualitas tinggi.',\n",
        "#     'Anting Emas Cantik memberikan sentuhan feminin dan elegan pada penampilan Anda. Terbuat dari emas dengan desain yang indah.',\n",
        "#     'Lipstik Matte Long-lasting memberikan hasil akhir matte yang tahan lama. Dapat memberikan sentuhan warna yang intens dan merona.',\n",
        "#     'Sepatu High Heels Glamor memberikan ketinggian dan gaya yang anggun pada penampilan Anda. Didesain dengan detail yang memikat.',\n",
        "#     'Jaket Kulit Stylish memberikan gaya yang cool dan trendi. Terbuat dari kulit berkualitas tinggi dengan desain yang modern.',\n",
        "#     'Kemeja Batik Klasik memberikan tampilan yang khas dan berkelas. Cocok untuk acara formal atau non-formal.',\n",
        "#     'Celana Pendek Denim memberikan gaya yang santai dan nyaman untuk cuaca hangat. Terbuat dari bahan denim berkualitas tinggi.',\n",
        "#     'Kaos Sablon Casual memberikan gaya yang santai dan trendy untuk penampilan sehari-hari. Didesain dengan motif yang menarik.',\n",
        "#     'Tas Laptop Stylish memberikan perlindungan dan gaya yang maksimal untuk laptop Anda. Terbuat dari bahan berkualitas dan dilengkapi dengan kompartemen yang aman.',\n",
        "#     'Blazer Wanita Modern memberikan tampilan yang profesional dan stylish. Cocok untuk acara formal atau non-formal.',\n",
        "#     'Gelang Berlian Mewah memberikan kemewahan dan kilau yang mempesona. Terbuat dari berlian asli dengan desain yang indah.',\n",
        "#     'Parfum Pria Maskulin memberikan aroma yang maskulin dan elegan. Diciptakan dengan komposisi yang khas untuk pria modern.',\n",
        "#     'Tas Pesta Glamor memberikan gaya yang mewah dan glamor pada setiap acara pesta. Didesain dengan detail yang memukau.',\n",
        "#     'Kalung Choker Trendy memberikan sentuhan gaya yang edgy dan modern pada leher Anda. Cocok untuk melengkapi penampilan fashion-forward.',\n",
        "#     'Pashmina Rajut Stylish memberikan gaya yang modis dan cozy pada penampilan hijab Anda. Terbuat dari bahan rajut berkualitas.',\n",
        "#     'Topi Keren Stylish memberikan sentuhan gaya yang cool dan trendy pada penampilan Anda. Didesain dengan detail yang menarik.',\n",
        "#     'Dompet Wanita Stylish memberikan gaya dan fungsi yang tak tertandingi. Terbuat dari bahan berkualitas tinggi.',\n",
        "#     'Anting Stud Elegant memberikan sentuhan elegan dan klasik pada penampilan Anda. Didesain dengan desain yang timeless.',\n",
        "#     'Lipstik Glossy Vibrant memberikan hasil akhir glossy yang memikat. Dapat memberikan sentuhan warna yang hidup dan berkilau.',\n",
        "#     'Sepatu Boots Trendy memberikan gaya yang trendi dan proteksi yang maksimal. Didesain dengan detail yang stylish dan tahan lama.',\n",
        "#     'Sweater Rajut Hangat memberikan kenyamanan dan gaya yang cozy. Terbuat dari bahan rajut yang hangat dan lembut.',\n",
        "#     'Celana Jogger Casual memberikan gaya yang santai dan nyaman untuk aktivitas sehari-hari. Terbuat dari bahan yang stretch dan mudah dipadukan.',\n",
        "#     'Kemeja Putih Formal memberikan tampilan yang klasik dan formal. Cocok untuk berbagai kesempatan yang membutuhkan penampilan yang rapi.',\n",
        "#     'Tas Selempang Kulit memberikan gaya yang stylish dan fungsional. Terbuat dari kulit berkualitas dengan desain yang modern.',\n",
        "#     'Perhiasan Perak Elegan memberikan sentuhan elegan dan berkelas pada penampilan Anda. Terbuat dari perak dengan desain yang indah.',\n",
        "#     'Sepatu Sporty memberikan kenyamanan dan gaya yang tak terbantahkan saat berolahraga. Terbuat dari bahan yang ringan dan nyaman dipakai.',\n",
        "#     'Rok Mini Trendy memberikan tampilan yang trendy dan playful. Cocok untuk penampilan yang ceria dan fashion-forward.',\n",
        "#     'Baju Kaos Grafis memberikan gaya yang unik dan ekspresif pada penampilan Anda. Didesain dengan motif grafis yang menarik.',\n",
        "#     'Topi Snapback memberikan sentuhan gaya yang sporty dan casual pada penampilan Anda. Cocok untuk gaya streetwear atau olahraga.',\n",
        "#     'Dompet Lipat Stylish memberikan kemudahan dan gaya yang minimalis. Terbuat dari bahan berkualitas tinggi.',\n",
        "#     'Anting Gantung Unik memberikan sentuhan gaya yang unik dan artistik pada penampilan Anda. Didesain dengan desain yang kreatif.',\n",
        "#     'Lipstik Satin Matte memberikan hasil akhir satin matte yang elegan. Dapat memberikan sentuhan warna yang lembut dan tahan lama.',\n",
        "#     'Sepatu Loafer Casual memberikan gaya yang santai dan nyaman pada penampilan Anda. Didesain dengan detail yang stylish.',\n",
        "#     'Celana Chino Slim Fit memberikan tampilan yang modern dan nyaman. Terbuat dari bahan yang stretch dan mudah dipadukan.',\n",
        "#     'Jas Blazer Slim Fit memberikan tampilan yang elegan dan berkelas pada setiap acara formal. Didesain dengan detail yang sempurna.',\n",
        "#     'Tas Tote Bag Stylish memberikan gaya yang chic dan fungsional. Terbuat dari bahan berkualitas tinggi dan dilengkapi dengan tali yang kuat.',\n",
        "#     'Gelang Manik-Manik memberikan sentuhan gaya yang boho dan berwarna pada pergelangan tangan Anda. Didesain dengan detail yang menarik.',\n",
        "#     'Parfum Floral Fruity memberikan aroma yang segar dan manis. Diciptakan dengan komposisi bunga dan buah yang lezat.',\n",
        "#     'Sepatu Sandal Santai memberikan kenyamanan dan gaya yang tak terbantahkan untuk kegiatan santai. Terbuat dari bahan yang nyaman dan ringan.',\n",
        "#     'Blouse Wanita Elegan memberikan tampilan yang feminin dan elegan. Cocok untuk acara formal atau non-formal.',\n",
        "#     'Sweater Hoodie Sporty memberikan kenyamanan dan gaya yang sporty. Terbuat dari bahan yang hangat dan dilengkapi dengan hoodie.',\n",
        "#     'Celana Legging Nyaman memberikan kenyamanan dan fleksibilitas saat digunakan. Terbuat dari bahan yang stretch dan nyaman di kulit.',\n",
        "#     'Kemeja Kotak-Kotak memberikan tampilan yang klasik dan stylish. Cocok untuk penampilan yang rapi namun tetap casual.',\n",
        "#     'Tas Sling Bag Trendy memberikan gaya yang trendi dan praktis. Terbuat dari bahan berkualitas tinggi dengan desain yang modern.',\n",
        "#     'Gelang Kulit Asli memberikan sentuhan gaya yang klasik dan alami pada pergelangan tangan Anda. Terbuat dari kulit asli yang tahan lama.',\n",
        "#     'Lipstik Velvet Matte memberikan hasil akhir matte yang lembut dan velvety. Dapat memberikan sentuhan warna yang intens dan mewah.',\n",
        "#     'Sepatu Running Ringan memberikan kenyamanan dan performa yang optimal saat berlari. Terbuat dari bahan yang ringan dan responsif.',\n",
        "#     'Baju Kebaya Elegan memberikan tampilan yang anggun dan tradisional. Cocok untuk acara formal atau tradisional.',\n",
        "#     'Topi Beanie Hangat memberikan kenyamanan dan gaya yang hangat pada cuaca dingin. Didesain dengan detail yang stylish.',\n",
        "#     'Dompet Zipper Minimalis memberikan kemudahan dan gaya yang minimalis. Terbuat dari bahan berkualitas tinggi dengan resleting yang kuat.',\n",
        "#     'Kalung Liontin Cantik memberikan sentuhan feminin dan elegan pada penampilan Anda. Didesain dengan desain yang manis dan berkilau.',\n",
        "#     'Celana Cargo Praktis memberikan gaya yang praktis dan fungsional untuk kegiatan sehari-hari. Terbuat dari bahan yang tahan lama.',\n",
        "#     'Kaos Polo Pria memberikan tampilan yang kasual namun tetap rapi dan stylish. Terbuat dari bahan berkualitas dan nyaman dipakai.',\n",
        "#     'Tas Clutch Glamor memberikan gaya yang mewah dan glamor pada setiap acara formal. Didesain dengan detail yang memukau.',\n",
        "#     'Gelang Tangan Vintage memberikan sentuhan retro dan klasik pada pergelangan tangan Anda. Didesain dengan detail yang indah.',\n",
        "#     'Parfum Woody Aromatic memberikan aroma yang hangat dan maskulin. Diciptakan dengan komposisi kayu dan aroma aromatik yang khas.',\n",
        "#     'Sepatu Loafer Formal memberikan tampilan yang anggun dan berkelas pada setiap acara formal. Didesain dengan detail yang sempurna.',\n",
        "#     'Rok Midi Trendy memberikan tampilan yang modern dan stylish. Cocok untuk berbagai kesempatan formal atau non-formal.',\n",
        "#     'Kacamata Oversize Stylish memberikan gaya yang bold dan fashion-forward pada penampilan Anda. Didesain dengan desain yang statement.',\n",
        "#     'Tas Backpack Casual memberikan gaya yang casual dan fungsional. Terbuat dari bahan yang tahan lama dan dilengkapi dengan banyak kantong.',\n",
        "#     'Blouse Peplum Feminin memberikan tampilan yang feminin dan berkelas. Cocok untuk acara formal atau non-formal.',\n",
        "#     'Celana Jogger Denim memberikan gaya yang trendi dan nyaman untuk aktivitas sehari-hari. Terbuat dari bahan denim yang stretch dan ringan.',\n",
        "#     'Kemeja Putih Polos memberikan tampilan yang klasik dan universal. Cocok untuk berbagai kesempatan dan mudah dipadukan dengan berbagai pakaian.',\n",
        "#     'Sepatu Sneakers Trendy memberikan gaya yang trendi dan nyaman untuk penampilan sehari-hari. Terbuat dari bahan yang tahan lama dan dilengkapi dengan sol yang nyaman.',\n",
        "#     'Topi Bucket Stylish memberikan sentuhan gaya yang casual dan stylish pada penampilan Anda. Didesain dengan desain yang versatile.',\n",
        "#     'Dompet Lipat Sederhana memberikan kemudahan dan gaya yang sederhana. Terbuat dari bahan berkualitas tinggi dengan desain yang minimalis.',\n",
        "#     'Anting Hiasan Unik memberikan sentuhan gaya yang unik dan kreatif pada penampilan Anda. Didesain dengan desain yang out-of-the-box.',\n",
        "#     'Lipstik Metallic Glamor memberikan hasil akhir metallic yang memikat. Dapat memberikan sentuhan warna yang berkilau dan glamor.',\n",
        "#     'Sepatu Slip-On Nyaman memberikan kenyamanan dan kemudahan saat dipakai. Terbuat dari bahan yang lembut dan elastis.',\n",
        "#     'Baju Cardigan Hangat memberikan kenyamanan dan gaya yang hangat pada cuaca yang sejuk. Terbuat dari bahan yang lembut dan hangat.',\n",
        "#     'Tas Crossbody Chic memberikan gaya yang chic dan praktis. Terbuat dari bahan berkualitas tinggi dan dilengkapi dengan tali yang dapat disesuaikan.',\n",
        "#     'Gelang Manik-Manik Etnik memberikan sentuhan gaya yang etnik dan colorful pada pergelangan tangan Anda. Didesain dengan detail yang artistik.',\n",
        "#     'Parfum Musk Sensual memberikan aroma yang sensual dan memikat. Diciptakan dengan komposisi musk yang khas dan menarik.',\n",
        "#     'Sweater Rajut Elegan memberikan kenyamanan dan gaya yang elegan. Terbuat dari bahan rajut yang lembut dan dilengkapi dengan detail yang indah.',\n",
        "#     'Celana Kulot Modis memberikan tampilan yang modis dan nyaman. Cocok untuk gaya kasual atau acara santai dengan sentuhan yang chic dan trendy'\n",
        "# ]"
      ],
      "metadata": {
        "id": "FCrRmggaoHL9"
      },
      "execution_count": 6,
      "outputs": []
    },
    {
      "cell_type": "code",
      "source": [
        "# category = [\n",
        "#     'Sepatu', 'Tas', 'Kemeja', 'Celana', 'Topi',\n",
        "#     'Kacamata', 'Jam Tangan', 'Dompet', 'Perhiasan', 'Parfum',\n",
        "#     'Gelang', 'Baju Renang', 'Topi', 'Kacamata',\n",
        "#     'Jam Dinding', 'Tas', 'Celana', 'Kaos', 'Baju Koko',\n",
        "#     'Sepatu', 'Tas Makeup', 'Jas', 'Kalung', 'Pashmina',\n",
        "#     'Topi', 'Dompet Kartu', 'Anting', 'Lipstik',\n",
        "#     'Sepatu', 'Jaket', 'Kemeja', 'Celana', 'Kaos',\n",
        "#     'Tas Laptop', 'Blazer', 'Gelang', 'Parfum', 'Tas Pesta',\n",
        "#     'Kalung', 'Pashmina', 'Topi', 'Dompet', 'Anting',\n",
        "#     'Lipstik', 'Sepatu', 'Sweater', 'Celana', 'Kemeja',\n",
        "#     'Tas', 'Perhiasan', 'Sepatu', 'Rok', 'Baju Kaos', 'Topi',\n",
        "#     'Dompet', 'Anting', 'Lipstik', 'Sepatu', 'Celana',\n",
        "#     'Jas Blazer', 'Tas', 'Gelang', 'Parfum', 'Sepatu Sandal',\n",
        "#     'Blouse', 'Sweater', 'Celana', 'Kemeja', 'Tas',\n",
        "#     'Gelang', 'Lipstik', 'Sepatu', 'Baju Kebaya', 'Topi',\n",
        "#     'Dompet', 'Kalung', 'Celana', 'Kaos Polo', 'Tas Clutch',\n",
        "#     'Gelang', 'Parfum', 'Sepatu', 'Rok', 'Kacamata',\n",
        "#     'Tas', 'Blouse', 'Celana', 'Kemeja', 'Sepatu',\n",
        "#     'Topi', 'Dompet', 'Anting', 'Lipstik', 'Sepatu',\n",
        "#     'Baju Cardigan', 'Tas', 'Gelang', 'Parfum', 'Sweater',\n",
        "#     'Celana'\n",
        "# ]"
      ],
      "metadata": {
        "id": "MPsZG_9joIqo"
      },
      "execution_count": 7,
      "outputs": []
    },
    {
      "cell_type": "code",
      "source": [
        "# brand = [\n",
        "#     'Zor Shoes','MaxiBag','Trendy Flannel','SlimFit Denims','Classic Fedora',\n",
        "#     'RetroVision','Luxe Timepieces','Genuine Wallets','Pure Gold Jewelry','Floral Fragrances',\n",
        "#     'Fashionable Bracelets','Sporty Swimwear','Basic Baseball Caps','Stylish Sunglasses','Vintage Wall Clocks',\n",
        "#     'Chic Sling Bags','Casual Trousers','Plain Basics','Modern Koko','Elegant Formal Shoes',\n",
        "#     'Portable Makeup Cases','SlimFit Men\\'s Suits','Luxury Pearl Necklaces','Stylish Pashmina Shawls','Trendy Trucker Hats',\n",
        "#     'Minimalist Card Wallets','Beautiful Earrings','Long-lasting Matte Lipsticks','Glamorous High Heels',\n",
        "#     'Stylish Leather Jackets','Classic Batik Shirts','Denim Shorts','Casual Graphic Tees','Stylish Laptop Bags',\n",
        "#     'Modern Women\\'s Blazers','Luxurious Diamond Bracelets','Masculine Perfumes','Glamorous Party Bags','Trendy Choker Necklaces',\n",
        "#     'Stylish Knitted Pashminas','Cool Snapback Caps','Stylish Women\\'s Wallets','Elegant Stud Earrings','Glossy Vibrant Lipsticks',\n",
        "#     'Trendy Boots','Warm Knitted Sweaters','Casual Joggers','Formal White Shirts','Leather Sling Bags',\n",
        "#     'Elegant Silver Jewelry','Sporty Shoes','Trendy Mini Skirts','Graphic T-shirts','Stylish Snapback Hats',\n",
        "#     'Minimalist Fold Wallets','Unique Dangle Earrings','Satin Matte Lipsticks','Casual Loafers','Slim Fit Chinos',\n",
        "#     'Slim Fit Blazer Jackets','Stylish Tote Bags','Beaded Bracelets','Floral Fruity Perfumes','Casual Sandals',\n",
        "#     'Elegant Women\\'s Blouses','Sporty Hoodie Sweaters','Comfortable Leggings','Classic Checkered Shirts','Trendy Sling Bags',\n",
        "#     'Genuine Leather Bracelets','Velvet Matte Lipsticks','Lightweight Running Shoes','Elegant Kebaya','Warm Beanie Hats',\n",
        "#     'Stylish Zipper Wallets','Beautiful Pendant Necklaces','Practical Cargo Pants','Men\\'s Polo Shirts','Glamorous Clutches',\n",
        "#     'Vintage Hand Bracelets','Woody Aromatic Perfumes','Formal Loafers','Trendy Midi Skirts','Oversize Sunglasses',\n",
        "#     'Casual Backpacks','Feminine Peplum Blouses','Denim Joggers','Plain White Shirts','Sneakers\\' Kingdom',\n",
        "#     'Stylish Belts','Retro Vintage Watches','Urban Messenger Bags','Graceful A-line Skirts','Stylish Jogger Pants','Refined Shirts',\n",
        "#     'Fashionable Sneakers','Active Sportswear','Casual Jumpsuits','Classic Dress Shirts','Stylish Sandals'\n",
        "# ]"
      ],
      "metadata": {
        "id": "zutrWVVhoLo8"
      },
      "execution_count": 8,
      "outputs": []
    },
    {
      "cell_type": "code",
      "source": [
        "# tags = [\n",
        "#     'Oblong, Circle', 'Oval, Oblong', 'Heart, Circle', 'Triangle, Agreeable', 'Square, Openess',\n",
        "#     'Extraversion, Heart', 'Agreeable, Triangle', 'Oblong, Heart', 'Triangle, Heart', 'Circle, Extraversion',\n",
        "#     'Conscientious, Circle', 'Oval, Heart', 'Conscientious, Extraversion', 'Openess, Agreeable', 'Heart, Circle',\n",
        "#     'Circle, Oblong', 'Triangle, Oblong', 'Oblong, Heart, Agreeable', 'Heart, Conscientious', 'Conscientious, Heart',\n",
        "#     'Heart, Circle, Triangle', 'Conscientious, Circle, Oval', 'Heart, Triangle, Conscientious', 'Triangle, Oval', 'Oblong, Heart',\n",
        "#     'Agreeable, Circle', 'Extraversion, Triangle', 'Conscientious, Oval', 'Oblong, Circle', 'Heart, Openess',\n",
        "#     'Triangle, Circle', 'Agreeable, Heart', 'Oblong, Openess', 'Triangle, Extraversion', 'Square, Agreeable',\n",
        "#     'Circle, Conscientious', 'Heart, Triangle, Openess', 'Oval, Agreeable', 'Heart, Extraversion', 'Circle, Oblong',\n",
        "#     'Triangle, Conscientious', 'Circle, Neurotic', 'Square, Conscientious', 'Agreeable, Oval', 'Heart, Conscientious, Extraversion',\n",
        "#     'Triangle, Oblong', 'Oblong, Circle, Conscientious', 'Extraversion, Heart, Circle', 'Agreeable, Openess', 'Heart, Circle, Neurotic',\n",
        "#     'Triangle, Oval', 'Oblong, Extraversion, Conscientious', 'Agreeable, Circle, Triangle', 'Heart, Openess, Conscientious', 'Circle, Openess',\n",
        "#     'Triangle, Heart', 'Oblong, Agreeable, Conscientious', 'Extraversion, Circle', 'Conscientious, Openess, Neurotic', 'Heart, Triangle, Oval',\n",
        "#     'Circle, Oval, Extraversion', 'Oblong, Openess, Agreeable', 'Heart, Conscientious, Circle', 'Triangle, Circle, Extraversion', 'Oblong, Extraversion, Openess',\n",
        "#     'Agreeable, Heart', 'Extraversion, Openess, Conscientious', 'Circle, Heart, Openess', 'Triangle, Agreeable, Circle', 'Oblong, Circle, Extraversion',\n",
        "#     'Heart, Circle, Openess', 'Triangle, Extraversion, Conscientious', 'Agreeable, Circle, Neurotic', 'Heart, Triangle, Conscientious', 'Oval, Openess',\n",
        "#     'Circle, Conscientious, Neurotic', 'Triangle, Circle, Openess', 'Agreeable, Oval, Extraversion', 'Heart, Conscientious, Circle, Neurotic', 'Triangle, Openess',\n",
        "#     'Oblong, Circle, Triangle', 'Extraversion, Heart, Openess', 'Agreeable, Circle, Openess', 'Heart, Triangle, Circle', 'Oval, Conscientious',\n",
        "#     'Circle, Triangle, Neurotic', 'Oblong, Extraversion, Neurotic', 'Heart, Openess, Triangle', 'Triangle, Circle, Conscientious', 'Oblong, Circle, Openess',\n",
        "#     'Heart, Extraversion, Neurotic', 'Agreeable, Conscientious, Openess', 'Circle, Oval, Openess', 'Triangle, Extraversion, Openess', 'Oblong, Heart, Circle, Openess',\n",
        "#     'Heart, Circle, Extraversion, Conscientious', 'Triangle, Circle, Neurotic', 'Oblong, Extraversion, Agreeable', 'Heart, Triangle, Openess, Conscientious', 'Oval, Circle'\n",
        "# ]\n"
      ],
      "metadata": {
        "id": "vAPq8o9DoMhw"
      },
      "execution_count": 9,
      "outputs": []
    },
    {
      "cell_type": "code",
      "source": [
        "# merchants = [\n",
        "#     'Fashion House', 'Beauty Boutique', 'Sports World', 'Tech Zone', 'Home Decor',\n",
        "#     'Food Paradise', 'Book Haven', 'Music Gallery', 'Pet Shop', 'Artisan Crafts',\n",
        "#     'Outdoor Gear', 'Kids Kingdom', 'Jewelry Emporium', 'Gadget Hub', 'Wellness Center',\n",
        "#     'Shoe Emporium', 'Vintage Treasures', 'Gourmet Delights', 'Fitness Zone', 'Game Central',\n",
        "#     'Fashion Outlet', 'Gift Emporium', 'Home Essentials', 'Health Corner', 'Toy Universe',\n",
        "#     'Artisan Crafts, Outdoor Gear', 'Tech Zone, Gadget Hub', 'Home Decor, Fashion House', 'Sports World, Fitness Zone',\n",
        "#     'Book Haven, Music Gallery', 'Beauty Boutique, Wellness Center', 'Food Paradise, Gourmet Delights', 'Jewelry Emporium, Vintage Treasures',\n",
        "#     'Pet Shop, Toy Universe', 'Kids Kingdom, Outdoor Gear', 'Shoe Emporium, Fashion Outlet', 'Home Essentials, Home Decor',\n",
        "#     'Artisan Crafts, Wellness Center', 'Game Central, Tech Zone', 'Fashion House, Fashion Outlet', 'Music Gallery, Book Haven',\n",
        "#     'Outdoor Gear, Fitness Zone', 'Beauty Boutique, Wellness Center, Health Corner', 'Food Paradise, Gourmet Delights, Health Corner', 'Jewelry Emporium, Vintage Treasures, Fashion House',\n",
        "#     'Pet Shop, Toy Universe, Kids Kingdom', 'Home Decor, Home Essentials, Vintage Treasures', 'Fashion Outlet, Shoe Emporium, Fashion House', 'Sports World, Outdoor Gear, Fitness Zone',\n",
        "#     'Tech Zone, Gadget Hub, Game Central', 'Artisan Crafts, Wellness Center, Health Corner', 'Book Haven, Music Gallery, Artisan Crafts', 'Beauty Boutique, Wellness Center, Health Corner, Gourmet Delights',\n",
        "#     'Food Paradise, Gourmet Delights, Health Corner, Fitness Zone', 'Jewelry Emporium, Vintage Treasures, Fashion House, Fashion Outlet', 'Pet Shop, Toy Universe, Kids Kingdom, Outdoor Gear', 'Home Decor, Home Essentials, Vintage Treasures, Fashion Outlet',\n",
        "#     'Fashion House, Fashion Outlet', 'Sports World, Outdoor Gear', 'Tech Zone, Gadget Hub', 'Home Decor, Fashion House',\n",
        "#     'Book Haven, Music Gallery', 'Beauty Boutique, Wellness Center', 'Food Paradise, Gourmet Delights', 'Jewelry Emporium, Vintage Treasures',\n",
        "#     'Pet Shop, Toy Universe', 'Kids Kingdom, Outdoor Gear', 'Shoe Emporium, Fashion Outlet', 'Home Essentials, Home Decor',\n",
        "#     'Artisan Crafts, Wellness Center', 'Game Central, Tech Zone', 'Music Gallery, Book Haven', 'Fashion House, Fashion Outlet',\n",
        "#     'Outdoor Gear, Fitness Zone', 'Beauty Boutique, Wellness Center', 'Food Paradise, Gourmet Delights', 'Jewelry Emporium, Vintage Treasures',\n",
        "#     'Pet Shop, Toy Universe', 'Home Decor, Home Essentials', 'Fashion Outlet, Shoe Emporium', 'Sports World, Outdoor Gear',\n",
        "#     'Tech Zone, Gadget Hub', 'Artisan Crafts, Wellness Center', 'Book Haven, Music Gallery', 'Beauty Boutique, Wellness Center',\n",
        "#     'Food Paradise, Gourmet Delights', 'Jewelry Emporium, Vintage Treasures', 'Pet Shop, Toy Universe', 'Home Decor, Home Essentials',\n",
        "#     'Fashion House, Fashion Outlet', 'Sports World, Outdoor Gear', 'Tech Zone, Gadget Hub', 'Artisan Crafts, Wellness Center',\n",
        "#     'Game Central, Tech Zone', 'Music Gallery, Book Haven', 'Fashion House, Fashion Outlet', 'Outdoor Gear, Fitness Zone',\n",
        "#     'Beauty Boutique, Wellness Center', 'Food Paradise, Gourmet Delights', 'Jewelry Emporium, Vintage Treasures'\n",
        "# ]"
      ],
      "metadata": {
        "id": "8f2Mg1iQoP07"
      },
      "execution_count": 10,
      "outputs": []
    },
    {
      "cell_type": "code",
      "source": [
        "# clicked = [random.randint(1, 100) for _ in range(100)]"
      ],
      "metadata": {
        "id": "Aa47b5IyoRd-"
      },
      "execution_count": 11,
      "outputs": []
    },
    {
      "cell_type": "code",
      "source": [
        "# # Membuat dataframe dari list\n",
        "# data = pd.DataFrame({'id': id, 'name': name, 'description' : description, 'category' : category, 'brand': brand, 'tags': tags, 'merchants': merchants, 'clicked': clicked})\n",
        "\n",
        "# # Menyimpan dataframe ke file CSV\n",
        "# data.to_csv('data.csv', index=False)"
      ],
      "metadata": {
        "id": "IQaQBVtKoR5r"
      },
      "execution_count": 12,
      "outputs": []
    },
    {
      "cell_type": "code",
      "source": [
        "# # Memuat data dari file CSV ke dataframe\n",
        "# df = pd.read_csv('data.csv')"
      ],
      "metadata": {
        "id": "EjlbAb62AEW9"
      },
      "execution_count": 13,
      "outputs": []
    },
    {
      "cell_type": "markdown",
      "source": [
        "### **Import Real Dataset**"
      ],
      "metadata": {
        "id": "S4_kO90XAHwn"
      }
    },
    {
      "cell_type": "code",
      "source": [
        "url = 'https://api.arvigo.site/v1/product-recommendation'\n",
        "headers = {'X-API-Key': '4a150010-bac7-46e7-8b8b-594f47b0015c'}\n",
        "response = requests.get(url, headers=headers)"
      ],
      "metadata": {
        "id": "JL_BzPRkAObX"
      },
      "execution_count": 14,
      "outputs": []
    },
    {
      "cell_type": "code",
      "source": [
        "if response.status_code == 200:\n",
        "    data = response.json()\n",
        "else:\n",
        "    print(f\"Request failed with status code {response.status_code}\")"
      ],
      "metadata": {
        "id": "eXEp3XiFARTy"
      },
      "execution_count": 15,
      "outputs": []
    },
    {
      "cell_type": "code",
      "source": [
        "# Membuat DataFrame dari data\n",
        "df = pd.DataFrame(data['data'])"
      ],
      "metadata": {
        "id": "fIwKAk68AS9y"
      },
      "execution_count": 16,
      "outputs": []
    },
    {
      "cell_type": "markdown",
      "source": [
        "### **Understanding Dataset**"
      ],
      "metadata": {
        "id": "r6Xd7BXVoeV9"
      }
    },
    {
      "cell_type": "code",
      "source": [
        "# Menampilkan dataframe\n",
        "df.head()"
      ],
      "metadata": {
        "colab": {
          "base_uri": "https://localhost:8080/",
          "height": 0
        },
        "id": "InUPoSnUofUj",
        "outputId": "12745c6f-580e-4139-acc9-190f02c35115"
      },
      "execution_count": 17,
      "outputs": [
        {
          "output_type": "execute_result",
          "data": {
            "text/plain": [
              "   id                     name  \\\n",
              "0   1  KAITO Natsuki Signature   \n",
              "1   2        MYKI Nial Eyewear   \n",
              "2   3     Kaito Cleo Signature   \n",
              "3   4    Kaito Moana Signature   \n",
              "4   5          Acetate Cat Eye   \n",
              "\n",
              "                                         description category   brand  \\\n",
              "0  SPESIFIKASI\\r\\n\\r\\nLebar Frame : 140 mm\\r\\nLeb...  Glasses  Kcmtku   \n",
              "1  SPESIFIKASI\\r\\n\\r\\nLebar Frame : 146 mm\\r\\nLeb...  Glasses  Kcmtku   \n",
              "2  SPESIFIKASI\\r\\n\\r\\nLebar Frame : 135 mm\\r\\nLeb...  Glasses  Kcmtku   \n",
              "3  SPESIFIKASI\\r\\n\\r\\nLebar Frame : 138 mm\\r\\nLeb...  Glasses  Kcmtku   \n",
              "4  Nomor Model: MG01\\r\\nBahan Lensa: PC\\r\\nBahan ...  Glasses   Prada   \n",
              "\n",
              "      tags merchants  clicked  \n",
              "0   Square                  9  \n",
              "1   Square                  0  \n",
              "2  Aviator                  0  \n",
              "3  Aviator                  0  \n",
              "4  Cat Eye                  0  "
            ],
            "text/html": [
              "\n",
              "  <div id=\"df-1fb123f2-7b28-4c43-ab22-6cbd0f8a3f97\">\n",
              "    <div class=\"colab-df-container\">\n",
              "      <div>\n",
              "<style scoped>\n",
              "    .dataframe tbody tr th:only-of-type {\n",
              "        vertical-align: middle;\n",
              "    }\n",
              "\n",
              "    .dataframe tbody tr th {\n",
              "        vertical-align: top;\n",
              "    }\n",
              "\n",
              "    .dataframe thead th {\n",
              "        text-align: right;\n",
              "    }\n",
              "</style>\n",
              "<table border=\"1\" class=\"dataframe\">\n",
              "  <thead>\n",
              "    <tr style=\"text-align: right;\">\n",
              "      <th></th>\n",
              "      <th>id</th>\n",
              "      <th>name</th>\n",
              "      <th>description</th>\n",
              "      <th>category</th>\n",
              "      <th>brand</th>\n",
              "      <th>tags</th>\n",
              "      <th>merchants</th>\n",
              "      <th>clicked</th>\n",
              "    </tr>\n",
              "  </thead>\n",
              "  <tbody>\n",
              "    <tr>\n",
              "      <th>0</th>\n",
              "      <td>1</td>\n",
              "      <td>KAITO Natsuki Signature</td>\n",
              "      <td>SPESIFIKASI\\r\\n\\r\\nLebar Frame : 140 mm\\r\\nLeb...</td>\n",
              "      <td>Glasses</td>\n",
              "      <td>Kcmtku</td>\n",
              "      <td>Square</td>\n",
              "      <td></td>\n",
              "      <td>9</td>\n",
              "    </tr>\n",
              "    <tr>\n",
              "      <th>1</th>\n",
              "      <td>2</td>\n",
              "      <td>MYKI Nial Eyewear</td>\n",
              "      <td>SPESIFIKASI\\r\\n\\r\\nLebar Frame : 146 mm\\r\\nLeb...</td>\n",
              "      <td>Glasses</td>\n",
              "      <td>Kcmtku</td>\n",
              "      <td>Square</td>\n",
              "      <td></td>\n",
              "      <td>0</td>\n",
              "    </tr>\n",
              "    <tr>\n",
              "      <th>2</th>\n",
              "      <td>3</td>\n",
              "      <td>Kaito Cleo Signature</td>\n",
              "      <td>SPESIFIKASI\\r\\n\\r\\nLebar Frame : 135 mm\\r\\nLeb...</td>\n",
              "      <td>Glasses</td>\n",
              "      <td>Kcmtku</td>\n",
              "      <td>Aviator</td>\n",
              "      <td></td>\n",
              "      <td>0</td>\n",
              "    </tr>\n",
              "    <tr>\n",
              "      <th>3</th>\n",
              "      <td>4</td>\n",
              "      <td>Kaito Moana Signature</td>\n",
              "      <td>SPESIFIKASI\\r\\n\\r\\nLebar Frame : 138 mm\\r\\nLeb...</td>\n",
              "      <td>Glasses</td>\n",
              "      <td>Kcmtku</td>\n",
              "      <td>Aviator</td>\n",
              "      <td></td>\n",
              "      <td>0</td>\n",
              "    </tr>\n",
              "    <tr>\n",
              "      <th>4</th>\n",
              "      <td>5</td>\n",
              "      <td>Acetate Cat Eye</td>\n",
              "      <td>Nomor Model: MG01\\r\\nBahan Lensa: PC\\r\\nBahan ...</td>\n",
              "      <td>Glasses</td>\n",
              "      <td>Prada</td>\n",
              "      <td>Cat Eye</td>\n",
              "      <td></td>\n",
              "      <td>0</td>\n",
              "    </tr>\n",
              "  </tbody>\n",
              "</table>\n",
              "</div>\n",
              "      <button class=\"colab-df-convert\" onclick=\"convertToInteractive('df-1fb123f2-7b28-4c43-ab22-6cbd0f8a3f97')\"\n",
              "              title=\"Convert this dataframe to an interactive table.\"\n",
              "              style=\"display:none;\">\n",
              "        \n",
              "  <svg xmlns=\"http://www.w3.org/2000/svg\" height=\"24px\"viewBox=\"0 0 24 24\"\n",
              "       width=\"24px\">\n",
              "    <path d=\"M0 0h24v24H0V0z\" fill=\"none\"/>\n",
              "    <path d=\"M18.56 5.44l.94 2.06.94-2.06 2.06-.94-2.06-.94-.94-2.06-.94 2.06-2.06.94zm-11 1L8.5 8.5l.94-2.06 2.06-.94-2.06-.94L8.5 2.5l-.94 2.06-2.06.94zm10 10l.94 2.06.94-2.06 2.06-.94-2.06-.94-.94-2.06-.94 2.06-2.06.94z\"/><path d=\"M17.41 7.96l-1.37-1.37c-.4-.4-.92-.59-1.43-.59-.52 0-1.04.2-1.43.59L10.3 9.45l-7.72 7.72c-.78.78-.78 2.05 0 2.83L4 21.41c.39.39.9.59 1.41.59.51 0 1.02-.2 1.41-.59l7.78-7.78 2.81-2.81c.8-.78.8-2.07 0-2.86zM5.41 20L4 18.59l7.72-7.72 1.47 1.35L5.41 20z\"/>\n",
              "  </svg>\n",
              "      </button>\n",
              "      \n",
              "  <style>\n",
              "    .colab-df-container {\n",
              "      display:flex;\n",
              "      flex-wrap:wrap;\n",
              "      gap: 12px;\n",
              "    }\n",
              "\n",
              "    .colab-df-convert {\n",
              "      background-color: #E8F0FE;\n",
              "      border: none;\n",
              "      border-radius: 50%;\n",
              "      cursor: pointer;\n",
              "      display: none;\n",
              "      fill: #1967D2;\n",
              "      height: 32px;\n",
              "      padding: 0 0 0 0;\n",
              "      width: 32px;\n",
              "    }\n",
              "\n",
              "    .colab-df-convert:hover {\n",
              "      background-color: #E2EBFA;\n",
              "      box-shadow: 0px 1px 2px rgba(60, 64, 67, 0.3), 0px 1px 3px 1px rgba(60, 64, 67, 0.15);\n",
              "      fill: #174EA6;\n",
              "    }\n",
              "\n",
              "    [theme=dark] .colab-df-convert {\n",
              "      background-color: #3B4455;\n",
              "      fill: #D2E3FC;\n",
              "    }\n",
              "\n",
              "    [theme=dark] .colab-df-convert:hover {\n",
              "      background-color: #434B5C;\n",
              "      box-shadow: 0px 1px 3px 1px rgba(0, 0, 0, 0.15);\n",
              "      filter: drop-shadow(0px 1px 2px rgba(0, 0, 0, 0.3));\n",
              "      fill: #FFFFFF;\n",
              "    }\n",
              "  </style>\n",
              "\n",
              "      <script>\n",
              "        const buttonEl =\n",
              "          document.querySelector('#df-1fb123f2-7b28-4c43-ab22-6cbd0f8a3f97 button.colab-df-convert');\n",
              "        buttonEl.style.display =\n",
              "          google.colab.kernel.accessAllowed ? 'block' : 'none';\n",
              "\n",
              "        async function convertToInteractive(key) {\n",
              "          const element = document.querySelector('#df-1fb123f2-7b28-4c43-ab22-6cbd0f8a3f97');\n",
              "          const dataTable =\n",
              "            await google.colab.kernel.invokeFunction('convertToInteractive',\n",
              "                                                     [key], {});\n",
              "          if (!dataTable) return;\n",
              "\n",
              "          const docLinkHtml = 'Like what you see? Visit the ' +\n",
              "            '<a target=\"_blank\" href=https://colab.research.google.com/notebooks/data_table.ipynb>data table notebook</a>'\n",
              "            + ' to learn more about interactive tables.';\n",
              "          element.innerHTML = '';\n",
              "          dataTable['output_type'] = 'display_data';\n",
              "          await google.colab.output.renderOutput(dataTable, element);\n",
              "          const docLink = document.createElement('div');\n",
              "          docLink.innerHTML = docLinkHtml;\n",
              "          element.appendChild(docLink);\n",
              "        }\n",
              "      </script>\n",
              "    </div>\n",
              "  </div>\n",
              "  "
            ]
          },
          "metadata": {},
          "execution_count": 17
        }
      ]
    },
    {
      "cell_type": "markdown",
      "source": [
        "### **Preprocessing Dataset**"
      ],
      "metadata": {
        "id": "o8XfHvB-oj_M"
      }
    },
    {
      "cell_type": "code",
      "source": [
        "# Menghapus kolom 'clicked'\n",
        "df = df.drop('clicked', axis=1)"
      ],
      "metadata": {
        "id": "a0vopfIuok2C"
      },
      "execution_count": 18,
      "outputs": []
    },
    {
      "cell_type": "code",
      "source": [
        "# Mengubah semua nilai pada DataFrame menjadi lower case\n",
        "df = df.apply(lambda x: x.astype(str).str.lower())"
      ],
      "metadata": {
        "id": "-Ovx2pP8om6r"
      },
      "execution_count": 19,
      "outputs": []
    },
    {
      "cell_type": "code",
      "source": [
        "# Mengganti nilai dalam kolom 'tags'\n",
        "df['tags'] = df['tags'].replace({'circle': 'circle bulat lingkaran',\n",
        "                                 'heart': 'heart hati',\n",
        "                                 'square': 'square kotak',\n",
        "                                 'triangle': 'triangle segitiga',\n",
        "                                 'extraversion': 'extraversion ekstrover enerjik terbuka sosial',\n",
        "                                 'neurotic': 'neurotic emosional labil cemas gugup',\n",
        "                                 'agreeable': 'agreeable ramah sopan bersahabat bergaul',\n",
        "                                 'conscientious': 'conscientious bertanggung jawab disiplin cermat teliti',\n",
        "                                 'openness': 'openness terbuka fleksibel kreatif inovatif'}, regex=True)"
      ],
      "metadata": {
        "id": "pcOE0da_opHq"
      },
      "execution_count": 20,
      "outputs": []
    },
    {
      "cell_type": "code",
      "source": [
        "# Pra-pemrosesan teks\n",
        "stop_words = set(stopwords.words('indonesian'))\n",
        "stemmer = PorterStemmer()"
      ],
      "metadata": {
        "id": "oOr1-MM6oqoy"
      },
      "execution_count": 21,
      "outputs": []
    },
    {
      "cell_type": "code",
      "source": [
        "def preprocess_text(text):\n",
        "    # Menghapus karakter khusus\n",
        "    text = re.sub(r'\\W', ' ', text)\n",
        "\n",
        "    # Tokenisasi\n",
        "    tokens = word_tokenize(text)\n",
        "\n",
        "    # Menggabungkan kembali token menjadi kalimat\n",
        "    processed_text = ' '.join(tokens)\n",
        "    return processed_text"
      ],
      "metadata": {
        "id": "lT9CE6nlo51Q"
      },
      "execution_count": 22,
      "outputs": []
    },
    {
      "cell_type": "code",
      "source": [
        "df['name'] = df['name'].apply(preprocess_text)\n",
        "df['description'] = df['description'].apply(preprocess_text)"
      ],
      "metadata": {
        "id": "Su-U6j78osQ4"
      },
      "execution_count": 23,
      "outputs": []
    },
    {
      "cell_type": "markdown",
      "source": [
        "### **Clean Dataset**"
      ],
      "metadata": {
        "id": "du3DtYm0oxFY"
      }
    },
    {
      "cell_type": "code",
      "source": [
        "df.head()"
      ],
      "metadata": {
        "colab": {
          "base_uri": "https://localhost:8080/",
          "height": 206
        },
        "id": "m8Jo_sr2oxiP",
        "outputId": "1ac25376-d74c-4e0f-9eba-55e34cb4c89a"
      },
      "execution_count": 24,
      "outputs": [
        {
          "output_type": "execute_result",
          "data": {
            "text/plain": [
              "  id                     name  \\\n",
              "0  1  kaito natsuki signature   \n",
              "1  2        myki nial eyewear   \n",
              "2  3     kaito cleo signature   \n",
              "3  4    kaito moana signature   \n",
              "4  5          acetate cat eye   \n",
              "\n",
              "                                         description category   brand  \\\n",
              "0  spesifikasi lebar frame 140 mm lebar lensa 53 ...  glasses  kcmtku   \n",
              "1  spesifikasi lebar frame 146 mm lebar lensa 54 ...  glasses  kcmtku   \n",
              "2  spesifikasi lebar frame 135 mm lebar lensa 53 ...  glasses  kcmtku   \n",
              "3  spesifikasi lebar frame 138 mm lebar lensa 54 ...  glasses  kcmtku   \n",
              "4  nomor model mg01 bahan lensa pc bahan bingkai ...  glasses   prada   \n",
              "\n",
              "           tags merchants  \n",
              "0  square kotak            \n",
              "1  square kotak            \n",
              "2       aviator            \n",
              "3       aviator            \n",
              "4       cat eye            "
            ],
            "text/html": [
              "\n",
              "  <div id=\"df-8deda044-3378-46b6-9a1c-d2af02ad4916\">\n",
              "    <div class=\"colab-df-container\">\n",
              "      <div>\n",
              "<style scoped>\n",
              "    .dataframe tbody tr th:only-of-type {\n",
              "        vertical-align: middle;\n",
              "    }\n",
              "\n",
              "    .dataframe tbody tr th {\n",
              "        vertical-align: top;\n",
              "    }\n",
              "\n",
              "    .dataframe thead th {\n",
              "        text-align: right;\n",
              "    }\n",
              "</style>\n",
              "<table border=\"1\" class=\"dataframe\">\n",
              "  <thead>\n",
              "    <tr style=\"text-align: right;\">\n",
              "      <th></th>\n",
              "      <th>id</th>\n",
              "      <th>name</th>\n",
              "      <th>description</th>\n",
              "      <th>category</th>\n",
              "      <th>brand</th>\n",
              "      <th>tags</th>\n",
              "      <th>merchants</th>\n",
              "    </tr>\n",
              "  </thead>\n",
              "  <tbody>\n",
              "    <tr>\n",
              "      <th>0</th>\n",
              "      <td>1</td>\n",
              "      <td>kaito natsuki signature</td>\n",
              "      <td>spesifikasi lebar frame 140 mm lebar lensa 53 ...</td>\n",
              "      <td>glasses</td>\n",
              "      <td>kcmtku</td>\n",
              "      <td>square kotak</td>\n",
              "      <td></td>\n",
              "    </tr>\n",
              "    <tr>\n",
              "      <th>1</th>\n",
              "      <td>2</td>\n",
              "      <td>myki nial eyewear</td>\n",
              "      <td>spesifikasi lebar frame 146 mm lebar lensa 54 ...</td>\n",
              "      <td>glasses</td>\n",
              "      <td>kcmtku</td>\n",
              "      <td>square kotak</td>\n",
              "      <td></td>\n",
              "    </tr>\n",
              "    <tr>\n",
              "      <th>2</th>\n",
              "      <td>3</td>\n",
              "      <td>kaito cleo signature</td>\n",
              "      <td>spesifikasi lebar frame 135 mm lebar lensa 53 ...</td>\n",
              "      <td>glasses</td>\n",
              "      <td>kcmtku</td>\n",
              "      <td>aviator</td>\n",
              "      <td></td>\n",
              "    </tr>\n",
              "    <tr>\n",
              "      <th>3</th>\n",
              "      <td>4</td>\n",
              "      <td>kaito moana signature</td>\n",
              "      <td>spesifikasi lebar frame 138 mm lebar lensa 54 ...</td>\n",
              "      <td>glasses</td>\n",
              "      <td>kcmtku</td>\n",
              "      <td>aviator</td>\n",
              "      <td></td>\n",
              "    </tr>\n",
              "    <tr>\n",
              "      <th>4</th>\n",
              "      <td>5</td>\n",
              "      <td>acetate cat eye</td>\n",
              "      <td>nomor model mg01 bahan lensa pc bahan bingkai ...</td>\n",
              "      <td>glasses</td>\n",
              "      <td>prada</td>\n",
              "      <td>cat eye</td>\n",
              "      <td></td>\n",
              "    </tr>\n",
              "  </tbody>\n",
              "</table>\n",
              "</div>\n",
              "      <button class=\"colab-df-convert\" onclick=\"convertToInteractive('df-8deda044-3378-46b6-9a1c-d2af02ad4916')\"\n",
              "              title=\"Convert this dataframe to an interactive table.\"\n",
              "              style=\"display:none;\">\n",
              "        \n",
              "  <svg xmlns=\"http://www.w3.org/2000/svg\" height=\"24px\"viewBox=\"0 0 24 24\"\n",
              "       width=\"24px\">\n",
              "    <path d=\"M0 0h24v24H0V0z\" fill=\"none\"/>\n",
              "    <path d=\"M18.56 5.44l.94 2.06.94-2.06 2.06-.94-2.06-.94-.94-2.06-.94 2.06-2.06.94zm-11 1L8.5 8.5l.94-2.06 2.06-.94-2.06-.94L8.5 2.5l-.94 2.06-2.06.94zm10 10l.94 2.06.94-2.06 2.06-.94-2.06-.94-.94-2.06-.94 2.06-2.06.94z\"/><path d=\"M17.41 7.96l-1.37-1.37c-.4-.4-.92-.59-1.43-.59-.52 0-1.04.2-1.43.59L10.3 9.45l-7.72 7.72c-.78.78-.78 2.05 0 2.83L4 21.41c.39.39.9.59 1.41.59.51 0 1.02-.2 1.41-.59l7.78-7.78 2.81-2.81c.8-.78.8-2.07 0-2.86zM5.41 20L4 18.59l7.72-7.72 1.47 1.35L5.41 20z\"/>\n",
              "  </svg>\n",
              "      </button>\n",
              "      \n",
              "  <style>\n",
              "    .colab-df-container {\n",
              "      display:flex;\n",
              "      flex-wrap:wrap;\n",
              "      gap: 12px;\n",
              "    }\n",
              "\n",
              "    .colab-df-convert {\n",
              "      background-color: #E8F0FE;\n",
              "      border: none;\n",
              "      border-radius: 50%;\n",
              "      cursor: pointer;\n",
              "      display: none;\n",
              "      fill: #1967D2;\n",
              "      height: 32px;\n",
              "      padding: 0 0 0 0;\n",
              "      width: 32px;\n",
              "    }\n",
              "\n",
              "    .colab-df-convert:hover {\n",
              "      background-color: #E2EBFA;\n",
              "      box-shadow: 0px 1px 2px rgba(60, 64, 67, 0.3), 0px 1px 3px 1px rgba(60, 64, 67, 0.15);\n",
              "      fill: #174EA6;\n",
              "    }\n",
              "\n",
              "    [theme=dark] .colab-df-convert {\n",
              "      background-color: #3B4455;\n",
              "      fill: #D2E3FC;\n",
              "    }\n",
              "\n",
              "    [theme=dark] .colab-df-convert:hover {\n",
              "      background-color: #434B5C;\n",
              "      box-shadow: 0px 1px 3px 1px rgba(0, 0, 0, 0.15);\n",
              "      filter: drop-shadow(0px 1px 2px rgba(0, 0, 0, 0.3));\n",
              "      fill: #FFFFFF;\n",
              "    }\n",
              "  </style>\n",
              "\n",
              "      <script>\n",
              "        const buttonEl =\n",
              "          document.querySelector('#df-8deda044-3378-46b6-9a1c-d2af02ad4916 button.colab-df-convert');\n",
              "        buttonEl.style.display =\n",
              "          google.colab.kernel.accessAllowed ? 'block' : 'none';\n",
              "\n",
              "        async function convertToInteractive(key) {\n",
              "          const element = document.querySelector('#df-8deda044-3378-46b6-9a1c-d2af02ad4916');\n",
              "          const dataTable =\n",
              "            await google.colab.kernel.invokeFunction('convertToInteractive',\n",
              "                                                     [key], {});\n",
              "          if (!dataTable) return;\n",
              "\n",
              "          const docLinkHtml = 'Like what you see? Visit the ' +\n",
              "            '<a target=\"_blank\" href=https://colab.research.google.com/notebooks/data_table.ipynb>data table notebook</a>'\n",
              "            + ' to learn more about interactive tables.';\n",
              "          element.innerHTML = '';\n",
              "          dataTable['output_type'] = 'display_data';\n",
              "          await google.colab.output.renderOutput(dataTable, element);\n",
              "          const docLink = document.createElement('div');\n",
              "          docLink.innerHTML = docLinkHtml;\n",
              "          element.appendChild(docLink);\n",
              "        }\n",
              "      </script>\n",
              "    </div>\n",
              "  </div>\n",
              "  "
            ]
          },
          "metadata": {},
          "execution_count": 24
        }
      ]
    },
    {
      "cell_type": "markdown",
      "source": [
        "### **Define Function**"
      ],
      "metadata": {
        "id": "Y_AmVfSnPCKf"
      }
    },
    {
      "cell_type": "code",
      "execution_count": 25,
      "metadata": {
        "id": "HVIrA7lE3qhs"
      },
      "outputs": [],
      "source": [
        "def preprocess_query(query):\n",
        "    # Mengubah huruf menjadi huruf kecil\n",
        "    query = query.lower()\n",
        "\n",
        "    # Menghapus tanda baca\n",
        "    query = re.sub(r'[^a-zA-Z0-9\\s]', '', query)\n",
        "    return query"
      ]
    },
    {
      "cell_type": "code",
      "source": [
        "def check_fuzzy_ratio(query_list, korpus):\n",
        "    result = []\n",
        "    for word in query_list:\n",
        "        match = False\n",
        "        for k in korpus:\n",
        "            if fuzz.ratio(word, k) >= 80:\n",
        "                result.append(k)\n",
        "                match = True\n",
        "                break\n",
        "        if not match:\n",
        "            result.append('')\n",
        "    return result"
      ],
      "metadata": {
        "id": "8MM5JC_04lhs"
      },
      "execution_count": 26,
      "outputs": []
    },
    {
      "cell_type": "code",
      "source": [
        "def separate_query(query, result_category, korpus):\n",
        "    query_list = query.split()\n",
        "    separated_queries = []\n",
        "    separated_query = ''\n",
        "    for i, word in enumerate(query_list):\n",
        "        if result_category[i-1] != '':\n",
        "            if separated_query != '':\n",
        "                separated_queries.append(separated_query.strip())\n",
        "                separated_query = ''\n",
        "        if result_category[i] != '':\n",
        "            separated_query += result_category[i]\n",
        "        else:\n",
        "            corrected_word = None\n",
        "            for k in korpus:\n",
        "                if fuzz.ratio(word, k) >= 80:\n",
        "                    corrected_word = k\n",
        "                    break\n",
        "            if corrected_word:\n",
        "                separated_query += corrected_word\n",
        "            else:\n",
        "                separated_query += word\n",
        "        separated_query += ' '\n",
        "    if separated_query != '':\n",
        "        separated_queries.append(separated_query.strip())\n",
        "    return separated_queries"
      ],
      "metadata": {
        "id": "vos-EthQOPlb"
      },
      "execution_count": 27,
      "outputs": []
    },
    {
      "cell_type": "code",
      "source": [
        "def fix_typo_with_fuzzy_ratio(query, korpus):\n",
        "    corrected_query = query\n",
        "    words = query.split()\n",
        "    for i, word in enumerate(words):\n",
        "        for keyword in korpus:\n",
        "            ratio = fuzz.ratio(word, keyword)\n",
        "            if ratio > 80:\n",
        "                words[i] = keyword\n",
        "                break\n",
        "    corrected_query = ' '.join(words)\n",
        "    return corrected_query"
      ],
      "metadata": {
        "id": "QkDIG_nckH5u"
      },
      "execution_count": 28,
      "outputs": []
    },
    {
      "cell_type": "code",
      "source": [
        "def identify_keywords(text_list, korpus_category):\n",
        "    keywords = []\n",
        "    for text in text_list:\n",
        "        keyword = ''\n",
        "        words = text.split()\n",
        "        for word in words:\n",
        "            if word in korpus_category:\n",
        "                keyword = word\n",
        "                break\n",
        "        keywords.append(keyword)\n",
        "    return keywords"
      ],
      "metadata": {
        "id": "BdLEW5IEcBWy"
      },
      "execution_count": 29,
      "outputs": []
    },
    {
      "cell_type": "code",
      "source": [
        "def neg_merge_lists(list1, list2):\n",
        "    merged_list = []\n",
        "    for i in range(len(list1)):\n",
        "        if list1[i] == '' or list2[i] == '':\n",
        "            None\n",
        "        else:\n",
        "            merged_list.append(list2[i])\n",
        "    return merged_list"
      ],
      "metadata": {
        "id": "1jgQAy20eapb"
      },
      "execution_count": 30,
      "outputs": []
    },
    {
      "cell_type": "code",
      "source": [
        "def pos_merge_lists(list1, list2, list3):\n",
        "    pos_list1 = []\n",
        "    pos_list2 = []\n",
        "    for i in range(len(list1)):\n",
        "        if list1[i] != '' and list3[i] == '':\n",
        "            pos_list1.append(list1[i])\n",
        "        if list2[i] != '' and list3[i] == '':\n",
        "            pos_list2.append(list2[i])\n",
        "    return pos_list1, pos_list2"
      ],
      "metadata": {
        "id": "pmhlvor9tU7l"
      },
      "execution_count": 31,
      "outputs": []
    },
    {
      "cell_type": "markdown",
      "source": [
        "### **Define Important Words**"
      ],
      "metadata": {
        "id": "Bw_I68NbO-1F"
      }
    },
    {
      "cell_type": "code",
      "source": [
        "korpus_negatif = ['tidak', 'ga', 'gak', 'ngga', 'nggak', 'selain', 'buruk', 'bukan', 'kurang', 'berbeda', 'beda', 'no', 'except', 'not']"
      ],
      "metadata": {
        "id": "2rpHkcajQjr7"
      },
      "execution_count": 32,
      "outputs": []
    },
    {
      "cell_type": "code",
      "source": [
        "korpus_category = ['jas', 'coat',\n",
        "                   'kaos', 'shirt', 'tshirt',\n",
        "                   'blouse', 'blus',\n",
        "                   'glasses', 'kacamata',\n",
        "                   'celana', 'pants', 'trousers',\n",
        "                   'gelang', 'bracelet',\n",
        "                   'dompet', 'purse',\n",
        "                   'baju', 'dress',\n",
        "                   'blazer',\n",
        "                   'perhiasan', 'jewellery',\n",
        "                   'tas', 'bag',\n",
        "                   'rok', 'skirt',\n",
        "                   'kemeja',\n",
        "                   'sepatu', 'shoes',\n",
        "                   'kalung', 'necklace',\n",
        "                   'sweater',\n",
        "                   'parfum', 'parfume',\n",
        "                   'lipstik',\n",
        "                   'pashmina', 'makeup',\n",
        "                   'anting', 'earrings',\n",
        "                   'jam', 'clock', 'watch',\n",
        "                   'topi', 'hat',\n",
        "                   'sandal',\n",
        "                   'jaket', 'jacket',\n",
        "                   'kemeja']"
      ],
      "metadata": {
        "id": "lzhKboVfQhdS"
      },
      "execution_count": 33,
      "outputs": []
    },
    {
      "cell_type": "code",
      "source": [
        "korpus_tag = [\"circle\", \"bulat\", \"lingkaran\",\n",
        "              \"heart\",\"hati\",\n",
        "              \"oblong\",\n",
        "              \"oval\",\n",
        "              \"square\", \"kotak\", \"segiempat\",\n",
        "              \"triangle\", \"segitiga\",\n",
        "              \"extraversion\", \"ekstrover\", \"enerjik\", \"terbuka\", \"sosial\",\n",
        "              \"neurotic\", \"emosional\", \"labil\", \"cemas\", \"gugup\",\n",
        "              \"agreeable\", \"ramah\", \"sopan\", \"bersahabat\", \"bergaul\",\n",
        "              \"conscientious\", \"bertanggung jawab\", \"disiplin\", \"cermat\", \"teliti\",\n",
        "              \"openness\", \"terbuka\", \"fleksibel\", \"kreatif\", \"inovatif\"]"
      ],
      "metadata": {
        "id": "GYzS_Z6N43hq"
      },
      "execution_count": 34,
      "outputs": []
    },
    {
      "cell_type": "markdown",
      "source": [
        "### **Define Query**"
      ],
      "metadata": {
        "id": "II0IzNHHR__J"
      }
    },
    {
      "cell_type": "code",
      "source": [
        "query = \"AA\""
      ],
      "metadata": {
        "id": "FJW115lp3_KQ"
      },
      "execution_count": 35,
      "outputs": []
    },
    {
      "cell_type": "markdown",
      "source": [
        "### **Preprocessing Query & Extract Feature**"
      ],
      "metadata": {
        "id": "zT-B0xhqSijC"
      }
    },
    {
      "cell_type": "code",
      "source": [
        "preprocess_queries = preprocess_query(query)\n",
        "result_category = check_fuzzy_ratio(preprocess_queries.split(), korpus_category + korpus_tag)\n",
        "separated_queries = separate_query(preprocess_queries, result_category, korpus_category + korpus_tag)\n",
        "print(separated_queries)"
      ],
      "metadata": {
        "colab": {
          "base_uri": "https://localhost:8080/"
        },
        "id": "Nlk14nhRObO0",
        "outputId": "4e897c6f-a27e-41a4-9c25-42074f5bff89"
      },
      "execution_count": 36,
      "outputs": [
        {
          "output_type": "stream",
          "name": "stdout",
          "text": [
            "['aa']\n"
          ]
        }
      ]
    },
    {
      "cell_type": "code",
      "source": [
        "corrected_queries = [fix_typo_with_fuzzy_ratio(query, korpus_negatif) for query in separated_queries]\n",
        "print(corrected_queries)"
      ],
      "metadata": {
        "colab": {
          "base_uri": "https://localhost:8080/"
        },
        "id": "7ARBjz07mO1t",
        "outputId": "64ffa425-bd54-484e-d410-d0cce6f4b192"
      },
      "execution_count": 37,
      "outputs": [
        {
          "output_type": "stream",
          "name": "stdout",
          "text": [
            "['aa']\n"
          ]
        }
      ]
    },
    {
      "cell_type": "code",
      "source": [
        "keywords_cat = identify_keywords(corrected_queries, korpus_category)\n",
        "keywords_tag = identify_keywords(corrected_queries, korpus_tag)\n",
        "keywords_neg = identify_keywords(corrected_queries, korpus_negatif)\n",
        "print(keywords_cat)\n",
        "print(keywords_tag)\n",
        "print(keywords_neg)"
      ],
      "metadata": {
        "colab": {
          "base_uri": "https://localhost:8080/"
        },
        "id": "zFP5ciNtcGU5",
        "outputId": "6e8a2518-ffef-43c2-b3a7-a97dfe5be944"
      },
      "execution_count": 38,
      "outputs": [
        {
          "output_type": "stream",
          "name": "stdout",
          "text": [
            "['']\n",
            "['']\n",
            "['']\n"
          ]
        }
      ]
    },
    {
      "cell_type": "code",
      "source": [
        "neg_category_query = neg_merge_lists(keywords_neg, keywords_cat)\n",
        "neg_tag_query = neg_merge_lists(keywords_neg, keywords_tag)\n",
        "pos_category_query, pos_tag_query = pos_merge_lists(keywords_cat, keywords_tag, keywords_neg)\n",
        "print(\"Negative Category :\", neg_category_query)\n",
        "print(\"Negative Tag :\", neg_tag_query)\n",
        "print(\"Positive Category :\", pos_category_query)\n",
        "print(\"Positive Tag :\", pos_tag_query)"
      ],
      "metadata": {
        "colab": {
          "base_uri": "https://localhost:8080/"
        },
        "id": "BbtioUuMdHbp",
        "outputId": "37de418e-cb36-4e60-aa74-54a3a82d52f1"
      },
      "execution_count": 39,
      "outputs": [
        {
          "output_type": "stream",
          "name": "stdout",
          "text": [
            "Negative Category : []\n",
            "Negative Tag : []\n",
            "Positive Category : []\n",
            "Positive Tag : []\n"
          ]
        }
      ]
    },
    {
      "cell_type": "markdown",
      "source": [
        "### **Delete Row that Contain Negative Query**"
      ],
      "metadata": {
        "id": "vfVWXsygwLG7"
      }
    },
    {
      "cell_type": "code",
      "source": [
        "# Membuat fungsi untuk memeriksa apakah tag mengandung kata dalam neg_category_query\n",
        "def has_negative_tags(tag, neg_query):\n",
        "    for query in neg_query:\n",
        "        if query in tag:\n",
        "            return True\n",
        "    return False"
      ],
      "metadata": {
        "id": "zR1WEWDXxD0Y"
      },
      "execution_count": 40,
      "outputs": []
    },
    {
      "cell_type": "code",
      "source": [
        "# Menghapus baris pada DataFrame yang memiliki category yang mengandung kata dalam neg_category_query\n",
        "df = df[~df['category'].apply(lambda x: has_negative_tags(x, neg_category_query))]"
      ],
      "metadata": {
        "id": "tKyjlDmV3iXU"
      },
      "execution_count": 41,
      "outputs": []
    },
    {
      "cell_type": "code",
      "source": [
        "# Menghapus baris pada DataFrame yang memiliki tag yang mengandung kata dalam neg_tag_query\n",
        "df = df[~df['tags'].apply(lambda x: has_negative_tags(x, neg_tag_query))]"
      ],
      "metadata": {
        "id": "z-lzG0GrxLvh"
      },
      "execution_count": 42,
      "outputs": []
    },
    {
      "cell_type": "code",
      "source": [
        "df.head()"
      ],
      "metadata": {
        "colab": {
          "base_uri": "https://localhost:8080/",
          "height": 206
        },
        "id": "QXhFWgJxDQyE",
        "outputId": "5f09706b-525e-45d2-87bd-91bd171b6671"
      },
      "execution_count": 43,
      "outputs": [
        {
          "output_type": "execute_result",
          "data": {
            "text/plain": [
              "  id                     name  \\\n",
              "0  1  kaito natsuki signature   \n",
              "1  2        myki nial eyewear   \n",
              "2  3     kaito cleo signature   \n",
              "3  4    kaito moana signature   \n",
              "4  5          acetate cat eye   \n",
              "\n",
              "                                         description category   brand  \\\n",
              "0  spesifikasi lebar frame 140 mm lebar lensa 53 ...  glasses  kcmtku   \n",
              "1  spesifikasi lebar frame 146 mm lebar lensa 54 ...  glasses  kcmtku   \n",
              "2  spesifikasi lebar frame 135 mm lebar lensa 53 ...  glasses  kcmtku   \n",
              "3  spesifikasi lebar frame 138 mm lebar lensa 54 ...  glasses  kcmtku   \n",
              "4  nomor model mg01 bahan lensa pc bahan bingkai ...  glasses   prada   \n",
              "\n",
              "           tags merchants  \n",
              "0  square kotak            \n",
              "1  square kotak            \n",
              "2       aviator            \n",
              "3       aviator            \n",
              "4       cat eye            "
            ],
            "text/html": [
              "\n",
              "  <div id=\"df-d2bc1f90-1fa3-45d5-b155-80d88ec5047c\">\n",
              "    <div class=\"colab-df-container\">\n",
              "      <div>\n",
              "<style scoped>\n",
              "    .dataframe tbody tr th:only-of-type {\n",
              "        vertical-align: middle;\n",
              "    }\n",
              "\n",
              "    .dataframe tbody tr th {\n",
              "        vertical-align: top;\n",
              "    }\n",
              "\n",
              "    .dataframe thead th {\n",
              "        text-align: right;\n",
              "    }\n",
              "</style>\n",
              "<table border=\"1\" class=\"dataframe\">\n",
              "  <thead>\n",
              "    <tr style=\"text-align: right;\">\n",
              "      <th></th>\n",
              "      <th>id</th>\n",
              "      <th>name</th>\n",
              "      <th>description</th>\n",
              "      <th>category</th>\n",
              "      <th>brand</th>\n",
              "      <th>tags</th>\n",
              "      <th>merchants</th>\n",
              "    </tr>\n",
              "  </thead>\n",
              "  <tbody>\n",
              "    <tr>\n",
              "      <th>0</th>\n",
              "      <td>1</td>\n",
              "      <td>kaito natsuki signature</td>\n",
              "      <td>spesifikasi lebar frame 140 mm lebar lensa 53 ...</td>\n",
              "      <td>glasses</td>\n",
              "      <td>kcmtku</td>\n",
              "      <td>square kotak</td>\n",
              "      <td></td>\n",
              "    </tr>\n",
              "    <tr>\n",
              "      <th>1</th>\n",
              "      <td>2</td>\n",
              "      <td>myki nial eyewear</td>\n",
              "      <td>spesifikasi lebar frame 146 mm lebar lensa 54 ...</td>\n",
              "      <td>glasses</td>\n",
              "      <td>kcmtku</td>\n",
              "      <td>square kotak</td>\n",
              "      <td></td>\n",
              "    </tr>\n",
              "    <tr>\n",
              "      <th>2</th>\n",
              "      <td>3</td>\n",
              "      <td>kaito cleo signature</td>\n",
              "      <td>spesifikasi lebar frame 135 mm lebar lensa 53 ...</td>\n",
              "      <td>glasses</td>\n",
              "      <td>kcmtku</td>\n",
              "      <td>aviator</td>\n",
              "      <td></td>\n",
              "    </tr>\n",
              "    <tr>\n",
              "      <th>3</th>\n",
              "      <td>4</td>\n",
              "      <td>kaito moana signature</td>\n",
              "      <td>spesifikasi lebar frame 138 mm lebar lensa 54 ...</td>\n",
              "      <td>glasses</td>\n",
              "      <td>kcmtku</td>\n",
              "      <td>aviator</td>\n",
              "      <td></td>\n",
              "    </tr>\n",
              "    <tr>\n",
              "      <th>4</th>\n",
              "      <td>5</td>\n",
              "      <td>acetate cat eye</td>\n",
              "      <td>nomor model mg01 bahan lensa pc bahan bingkai ...</td>\n",
              "      <td>glasses</td>\n",
              "      <td>prada</td>\n",
              "      <td>cat eye</td>\n",
              "      <td></td>\n",
              "    </tr>\n",
              "  </tbody>\n",
              "</table>\n",
              "</div>\n",
              "      <button class=\"colab-df-convert\" onclick=\"convertToInteractive('df-d2bc1f90-1fa3-45d5-b155-80d88ec5047c')\"\n",
              "              title=\"Convert this dataframe to an interactive table.\"\n",
              "              style=\"display:none;\">\n",
              "        \n",
              "  <svg xmlns=\"http://www.w3.org/2000/svg\" height=\"24px\"viewBox=\"0 0 24 24\"\n",
              "       width=\"24px\">\n",
              "    <path d=\"M0 0h24v24H0V0z\" fill=\"none\"/>\n",
              "    <path d=\"M18.56 5.44l.94 2.06.94-2.06 2.06-.94-2.06-.94-.94-2.06-.94 2.06-2.06.94zm-11 1L8.5 8.5l.94-2.06 2.06-.94-2.06-.94L8.5 2.5l-.94 2.06-2.06.94zm10 10l.94 2.06.94-2.06 2.06-.94-2.06-.94-.94-2.06-.94 2.06-2.06.94z\"/><path d=\"M17.41 7.96l-1.37-1.37c-.4-.4-.92-.59-1.43-.59-.52 0-1.04.2-1.43.59L10.3 9.45l-7.72 7.72c-.78.78-.78 2.05 0 2.83L4 21.41c.39.39.9.59 1.41.59.51 0 1.02-.2 1.41-.59l7.78-7.78 2.81-2.81c.8-.78.8-2.07 0-2.86zM5.41 20L4 18.59l7.72-7.72 1.47 1.35L5.41 20z\"/>\n",
              "  </svg>\n",
              "      </button>\n",
              "      \n",
              "  <style>\n",
              "    .colab-df-container {\n",
              "      display:flex;\n",
              "      flex-wrap:wrap;\n",
              "      gap: 12px;\n",
              "    }\n",
              "\n",
              "    .colab-df-convert {\n",
              "      background-color: #E8F0FE;\n",
              "      border: none;\n",
              "      border-radius: 50%;\n",
              "      cursor: pointer;\n",
              "      display: none;\n",
              "      fill: #1967D2;\n",
              "      height: 32px;\n",
              "      padding: 0 0 0 0;\n",
              "      width: 32px;\n",
              "    }\n",
              "\n",
              "    .colab-df-convert:hover {\n",
              "      background-color: #E2EBFA;\n",
              "      box-shadow: 0px 1px 2px rgba(60, 64, 67, 0.3), 0px 1px 3px 1px rgba(60, 64, 67, 0.15);\n",
              "      fill: #174EA6;\n",
              "    }\n",
              "\n",
              "    [theme=dark] .colab-df-convert {\n",
              "      background-color: #3B4455;\n",
              "      fill: #D2E3FC;\n",
              "    }\n",
              "\n",
              "    [theme=dark] .colab-df-convert:hover {\n",
              "      background-color: #434B5C;\n",
              "      box-shadow: 0px 1px 3px 1px rgba(0, 0, 0, 0.15);\n",
              "      filter: drop-shadow(0px 1px 2px rgba(0, 0, 0, 0.3));\n",
              "      fill: #FFFFFF;\n",
              "    }\n",
              "  </style>\n",
              "\n",
              "      <script>\n",
              "        const buttonEl =\n",
              "          document.querySelector('#df-d2bc1f90-1fa3-45d5-b155-80d88ec5047c button.colab-df-convert');\n",
              "        buttonEl.style.display =\n",
              "          google.colab.kernel.accessAllowed ? 'block' : 'none';\n",
              "\n",
              "        async function convertToInteractive(key) {\n",
              "          const element = document.querySelector('#df-d2bc1f90-1fa3-45d5-b155-80d88ec5047c');\n",
              "          const dataTable =\n",
              "            await google.colab.kernel.invokeFunction('convertToInteractive',\n",
              "                                                     [key], {});\n",
              "          if (!dataTable) return;\n",
              "\n",
              "          const docLinkHtml = 'Like what you see? Visit the ' +\n",
              "            '<a target=\"_blank\" href=https://colab.research.google.com/notebooks/data_table.ipynb>data table notebook</a>'\n",
              "            + ' to learn more about interactive tables.';\n",
              "          element.innerHTML = '';\n",
              "          dataTable['output_type'] = 'display_data';\n",
              "          await google.colab.output.renderOutput(dataTable, element);\n",
              "          const docLink = document.createElement('div');\n",
              "          docLink.innerHTML = docLinkHtml;\n",
              "          element.appendChild(docLink);\n",
              "        }\n",
              "      </script>\n",
              "    </div>\n",
              "  </div>\n",
              "  "
            ]
          },
          "metadata": {},
          "execution_count": 43
        }
      ]
    },
    {
      "cell_type": "markdown",
      "source": [
        "### **Only Recommend Product that Contain Positive Query**"
      ],
      "metadata": {
        "id": "gDYfF6xczkPK"
      }
    },
    {
      "cell_type": "code",
      "source": [
        "if len(pos_category_query) != 0:\n",
        "    df = df[df['category'].apply(lambda x: any(tag in x for tag in pos_category_query))]"
      ],
      "metadata": {
        "id": "jBF1TfJQzip0"
      },
      "execution_count": 44,
      "outputs": []
    },
    {
      "cell_type": "code",
      "source": [
        "if len(pos_tag_query) != 0:\n",
        "    df = df[df['tags'].apply(lambda x: any(tag in x for tag in pos_tag_query))]"
      ],
      "metadata": {
        "id": "oZIAI_Gu0Rs-"
      },
      "execution_count": 45,
      "outputs": []
    },
    {
      "cell_type": "code",
      "source": [
        "df.head()"
      ],
      "metadata": {
        "colab": {
          "base_uri": "https://localhost:8080/",
          "height": 206
        },
        "id": "WywuBSaVDNs_",
        "outputId": "ffe79a5e-a5d2-4678-d0c2-164a5bcb3881"
      },
      "execution_count": 46,
      "outputs": [
        {
          "output_type": "execute_result",
          "data": {
            "text/plain": [
              "  id                     name  \\\n",
              "0  1  kaito natsuki signature   \n",
              "1  2        myki nial eyewear   \n",
              "2  3     kaito cleo signature   \n",
              "3  4    kaito moana signature   \n",
              "4  5          acetate cat eye   \n",
              "\n",
              "                                         description category   brand  \\\n",
              "0  spesifikasi lebar frame 140 mm lebar lensa 53 ...  glasses  kcmtku   \n",
              "1  spesifikasi lebar frame 146 mm lebar lensa 54 ...  glasses  kcmtku   \n",
              "2  spesifikasi lebar frame 135 mm lebar lensa 53 ...  glasses  kcmtku   \n",
              "3  spesifikasi lebar frame 138 mm lebar lensa 54 ...  glasses  kcmtku   \n",
              "4  nomor model mg01 bahan lensa pc bahan bingkai ...  glasses   prada   \n",
              "\n",
              "           tags merchants  \n",
              "0  square kotak            \n",
              "1  square kotak            \n",
              "2       aviator            \n",
              "3       aviator            \n",
              "4       cat eye            "
            ],
            "text/html": [
              "\n",
              "  <div id=\"df-b49fa244-fb73-440b-8c96-870cf11492a7\">\n",
              "    <div class=\"colab-df-container\">\n",
              "      <div>\n",
              "<style scoped>\n",
              "    .dataframe tbody tr th:only-of-type {\n",
              "        vertical-align: middle;\n",
              "    }\n",
              "\n",
              "    .dataframe tbody tr th {\n",
              "        vertical-align: top;\n",
              "    }\n",
              "\n",
              "    .dataframe thead th {\n",
              "        text-align: right;\n",
              "    }\n",
              "</style>\n",
              "<table border=\"1\" class=\"dataframe\">\n",
              "  <thead>\n",
              "    <tr style=\"text-align: right;\">\n",
              "      <th></th>\n",
              "      <th>id</th>\n",
              "      <th>name</th>\n",
              "      <th>description</th>\n",
              "      <th>category</th>\n",
              "      <th>brand</th>\n",
              "      <th>tags</th>\n",
              "      <th>merchants</th>\n",
              "    </tr>\n",
              "  </thead>\n",
              "  <tbody>\n",
              "    <tr>\n",
              "      <th>0</th>\n",
              "      <td>1</td>\n",
              "      <td>kaito natsuki signature</td>\n",
              "      <td>spesifikasi lebar frame 140 mm lebar lensa 53 ...</td>\n",
              "      <td>glasses</td>\n",
              "      <td>kcmtku</td>\n",
              "      <td>square kotak</td>\n",
              "      <td></td>\n",
              "    </tr>\n",
              "    <tr>\n",
              "      <th>1</th>\n",
              "      <td>2</td>\n",
              "      <td>myki nial eyewear</td>\n",
              "      <td>spesifikasi lebar frame 146 mm lebar lensa 54 ...</td>\n",
              "      <td>glasses</td>\n",
              "      <td>kcmtku</td>\n",
              "      <td>square kotak</td>\n",
              "      <td></td>\n",
              "    </tr>\n",
              "    <tr>\n",
              "      <th>2</th>\n",
              "      <td>3</td>\n",
              "      <td>kaito cleo signature</td>\n",
              "      <td>spesifikasi lebar frame 135 mm lebar lensa 53 ...</td>\n",
              "      <td>glasses</td>\n",
              "      <td>kcmtku</td>\n",
              "      <td>aviator</td>\n",
              "      <td></td>\n",
              "    </tr>\n",
              "    <tr>\n",
              "      <th>3</th>\n",
              "      <td>4</td>\n",
              "      <td>kaito moana signature</td>\n",
              "      <td>spesifikasi lebar frame 138 mm lebar lensa 54 ...</td>\n",
              "      <td>glasses</td>\n",
              "      <td>kcmtku</td>\n",
              "      <td>aviator</td>\n",
              "      <td></td>\n",
              "    </tr>\n",
              "    <tr>\n",
              "      <th>4</th>\n",
              "      <td>5</td>\n",
              "      <td>acetate cat eye</td>\n",
              "      <td>nomor model mg01 bahan lensa pc bahan bingkai ...</td>\n",
              "      <td>glasses</td>\n",
              "      <td>prada</td>\n",
              "      <td>cat eye</td>\n",
              "      <td></td>\n",
              "    </tr>\n",
              "  </tbody>\n",
              "</table>\n",
              "</div>\n",
              "      <button class=\"colab-df-convert\" onclick=\"convertToInteractive('df-b49fa244-fb73-440b-8c96-870cf11492a7')\"\n",
              "              title=\"Convert this dataframe to an interactive table.\"\n",
              "              style=\"display:none;\">\n",
              "        \n",
              "  <svg xmlns=\"http://www.w3.org/2000/svg\" height=\"24px\"viewBox=\"0 0 24 24\"\n",
              "       width=\"24px\">\n",
              "    <path d=\"M0 0h24v24H0V0z\" fill=\"none\"/>\n",
              "    <path d=\"M18.56 5.44l.94 2.06.94-2.06 2.06-.94-2.06-.94-.94-2.06-.94 2.06-2.06.94zm-11 1L8.5 8.5l.94-2.06 2.06-.94-2.06-.94L8.5 2.5l-.94 2.06-2.06.94zm10 10l.94 2.06.94-2.06 2.06-.94-2.06-.94-.94-2.06-.94 2.06-2.06.94z\"/><path d=\"M17.41 7.96l-1.37-1.37c-.4-.4-.92-.59-1.43-.59-.52 0-1.04.2-1.43.59L10.3 9.45l-7.72 7.72c-.78.78-.78 2.05 0 2.83L4 21.41c.39.39.9.59 1.41.59.51 0 1.02-.2 1.41-.59l7.78-7.78 2.81-2.81c.8-.78.8-2.07 0-2.86zM5.41 20L4 18.59l7.72-7.72 1.47 1.35L5.41 20z\"/>\n",
              "  </svg>\n",
              "      </button>\n",
              "      \n",
              "  <style>\n",
              "    .colab-df-container {\n",
              "      display:flex;\n",
              "      flex-wrap:wrap;\n",
              "      gap: 12px;\n",
              "    }\n",
              "\n",
              "    .colab-df-convert {\n",
              "      background-color: #E8F0FE;\n",
              "      border: none;\n",
              "      border-radius: 50%;\n",
              "      cursor: pointer;\n",
              "      display: none;\n",
              "      fill: #1967D2;\n",
              "      height: 32px;\n",
              "      padding: 0 0 0 0;\n",
              "      width: 32px;\n",
              "    }\n",
              "\n",
              "    .colab-df-convert:hover {\n",
              "      background-color: #E2EBFA;\n",
              "      box-shadow: 0px 1px 2px rgba(60, 64, 67, 0.3), 0px 1px 3px 1px rgba(60, 64, 67, 0.15);\n",
              "      fill: #174EA6;\n",
              "    }\n",
              "\n",
              "    [theme=dark] .colab-df-convert {\n",
              "      background-color: #3B4455;\n",
              "      fill: #D2E3FC;\n",
              "    }\n",
              "\n",
              "    [theme=dark] .colab-df-convert:hover {\n",
              "      background-color: #434B5C;\n",
              "      box-shadow: 0px 1px 3px 1px rgba(0, 0, 0, 0.15);\n",
              "      filter: drop-shadow(0px 1px 2px rgba(0, 0, 0, 0.3));\n",
              "      fill: #FFFFFF;\n",
              "    }\n",
              "  </style>\n",
              "\n",
              "      <script>\n",
              "        const buttonEl =\n",
              "          document.querySelector('#df-b49fa244-fb73-440b-8c96-870cf11492a7 button.colab-df-convert');\n",
              "        buttonEl.style.display =\n",
              "          google.colab.kernel.accessAllowed ? 'block' : 'none';\n",
              "\n",
              "        async function convertToInteractive(key) {\n",
              "          const element = document.querySelector('#df-b49fa244-fb73-440b-8c96-870cf11492a7');\n",
              "          const dataTable =\n",
              "            await google.colab.kernel.invokeFunction('convertToInteractive',\n",
              "                                                     [key], {});\n",
              "          if (!dataTable) return;\n",
              "\n",
              "          const docLinkHtml = 'Like what you see? Visit the ' +\n",
              "            '<a target=\"_blank\" href=https://colab.research.google.com/notebooks/data_table.ipynb>data table notebook</a>'\n",
              "            + ' to learn more about interactive tables.';\n",
              "          element.innerHTML = '';\n",
              "          dataTable['output_type'] = 'display_data';\n",
              "          await google.colab.output.renderOutput(dataTable, element);\n",
              "          const docLink = document.createElement('div');\n",
              "          docLink.innerHTML = docLinkHtml;\n",
              "          element.appendChild(docLink);\n",
              "        }\n",
              "      </script>\n",
              "    </div>\n",
              "  </div>\n",
              "  "
            ]
          },
          "metadata": {},
          "execution_count": 46
        }
      ]
    },
    {
      "cell_type": "markdown",
      "source": [
        "### **Build Search Engine**"
      ],
      "metadata": {
        "id": "RRPhdjbY19iT"
      }
    },
    {
      "cell_type": "code",
      "source": [
        "# Inisialisasi TF-IDF Vectorizer\n",
        "tfidf_vectorizer = TfidfVectorizer()"
      ],
      "metadata": {
        "id": "KO1vspQ42hGh"
      },
      "execution_count": 47,
      "outputs": []
    },
    {
      "cell_type": "code",
      "source": [
        "def search_and_get_results(query, vectorizer, top_n):\n",
        "    results = []\n",
        "    for idx, product in df.iterrows():\n",
        "        # Menghitung similarity score untuk setiap kolom\n",
        "        similarity_scores = []\n",
        "\n",
        "        for column in ['name', 'description', 'brand', 'merchants']:\n",
        "            query_ngrams = set(ngrams(query.lower(), 3))\n",
        "            product_ngrams = set(ngrams(product[column].lower(), 3))\n",
        "\n",
        "            # Check if the sets are empty before calculating similarity\n",
        "            if len(query_ngrams) == 0 or len(product_ngrams) == 0:\n",
        "                ngram_similarity = 0\n",
        "            else:\n",
        "                ngram_similarity = len(query_ngrams.intersection(product_ngrams)) / len(query_ngrams.union(product_ngrams))\n",
        "\n",
        "            levenshtein_distance = edit_distance(query.lower(), product[column].lower())\n",
        "            levenshtein_similarity = 1 - (levenshtein_distance / max(len(query), len(product[column])))\n",
        "\n",
        "            similarity_score = (ngram_similarity + levenshtein_similarity) / 2\n",
        "\n",
        "            # Meningkatkan bobot similarity score pada kolom \"category\" dan \"tags\"\n",
        "            if column == 'name':\n",
        "                similarity_score *= 2\n",
        "            elif column == 'description':\n",
        "                similarity_score *= 1\n",
        "            elif column == 'brand':\n",
        "                similarity_score *= 3\n",
        "            else:\n",
        "                similarity_score *= 2\n",
        "\n",
        "            similarity_scores.append(similarity_score)\n",
        "\n",
        "        # Menjumlahkan similarity scores dari setiap kolom\n",
        "        total_similarity_score = sum(similarity_scores) / len(similarity_scores)\n",
        "        results.append((product['id'], total_similarity_score))\n",
        "\n",
        "    # Mengurutkan hasil berdasarkan similarity score\n",
        "    results = sorted(results, key=lambda x: x[1], reverse=True)[:top_n]\n",
        "\n",
        "    # Membuat DataFrame hasil pencarian\n",
        "    search_results = pd.DataFrame(results, columns=['id', 'similarity'])\n",
        "    return search_results\n"
      ],
      "metadata": {
        "id": "q1zSwTfy2i7A"
      },
      "execution_count": 48,
      "outputs": []
    },
    {
      "cell_type": "code",
      "source": [
        "# Menampilkan produk berdasarkan query\n",
        "search_results = search_and_get_results(query, tfidf_vectorizer, top_n=df.shape[0])\n",
        "merged_df = pd.merge(df, search_results, on='id', how='inner')\n",
        "\n",
        "# Menampilkan data frame dengan nilai similarity lebih dari 0.1\n",
        "merged_df = merged_df[merged_df['similarity'] > 0.1]\n",
        "\n",
        "# Mengeprint tidak ada produk apabila merfed_df tidak mempunyai baris\n",
        "if merged_df.shape[0] == 0:\n",
        "    print(\"Tidak ada produk yang sesuai dengan pencarian\\n\")\n",
        "\n",
        "# Mengurutkan dataframe berdasarkan kolom similarity yang terbesar\n",
        "merged_df = merged_df.sort_values(by=['similarity'], ascending=False)\n",
        "merged_df.head(25)"
      ],
      "metadata": {
        "colab": {
          "base_uri": "https://localhost:8080/",
          "height": 143
        },
        "id": "miGALKKM2k5w",
        "outputId": "33be6132-6ea9-4ecf-8e8f-5b1a323c8e23"
      },
      "execution_count": 49,
      "outputs": [
        {
          "output_type": "execute_result",
          "data": {
            "text/plain": [
              "  id                 name                                        description  \\\n",
              "4  5      acetate cat eye  nomor model mg01 bahan lensa pc bahan bingkai ...   \n",
              "7  8  cazal legends men s  brand cazal legends model 663 3 style retro pi...   \n",
              "6  7      ray ban rb 4307  material frame injected form rectangular sport...   \n",
              "\n",
              "  category   brand       tags merchants  similarity  \n",
              "4  glasses   prada    cat eye              0.185349  \n",
              "7  glasses   cazal  oversized              0.177736  \n",
              "6  glasses  rayban  oversized              0.160452  "
            ],
            "text/html": [
              "\n",
              "  <div id=\"df-b89e639e-5b92-4db3-a9d8-9a909229af99\">\n",
              "    <div class=\"colab-df-container\">\n",
              "      <div>\n",
              "<style scoped>\n",
              "    .dataframe tbody tr th:only-of-type {\n",
              "        vertical-align: middle;\n",
              "    }\n",
              "\n",
              "    .dataframe tbody tr th {\n",
              "        vertical-align: top;\n",
              "    }\n",
              "\n",
              "    .dataframe thead th {\n",
              "        text-align: right;\n",
              "    }\n",
              "</style>\n",
              "<table border=\"1\" class=\"dataframe\">\n",
              "  <thead>\n",
              "    <tr style=\"text-align: right;\">\n",
              "      <th></th>\n",
              "      <th>id</th>\n",
              "      <th>name</th>\n",
              "      <th>description</th>\n",
              "      <th>category</th>\n",
              "      <th>brand</th>\n",
              "      <th>tags</th>\n",
              "      <th>merchants</th>\n",
              "      <th>similarity</th>\n",
              "    </tr>\n",
              "  </thead>\n",
              "  <tbody>\n",
              "    <tr>\n",
              "      <th>4</th>\n",
              "      <td>5</td>\n",
              "      <td>acetate cat eye</td>\n",
              "      <td>nomor model mg01 bahan lensa pc bahan bingkai ...</td>\n",
              "      <td>glasses</td>\n",
              "      <td>prada</td>\n",
              "      <td>cat eye</td>\n",
              "      <td></td>\n",
              "      <td>0.185349</td>\n",
              "    </tr>\n",
              "    <tr>\n",
              "      <th>7</th>\n",
              "      <td>8</td>\n",
              "      <td>cazal legends men s</td>\n",
              "      <td>brand cazal legends model 663 3 style retro pi...</td>\n",
              "      <td>glasses</td>\n",
              "      <td>cazal</td>\n",
              "      <td>oversized</td>\n",
              "      <td></td>\n",
              "      <td>0.177736</td>\n",
              "    </tr>\n",
              "    <tr>\n",
              "      <th>6</th>\n",
              "      <td>7</td>\n",
              "      <td>ray ban rb 4307</td>\n",
              "      <td>material frame injected form rectangular sport...</td>\n",
              "      <td>glasses</td>\n",
              "      <td>rayban</td>\n",
              "      <td>oversized</td>\n",
              "      <td></td>\n",
              "      <td>0.160452</td>\n",
              "    </tr>\n",
              "  </tbody>\n",
              "</table>\n",
              "</div>\n",
              "      <button class=\"colab-df-convert\" onclick=\"convertToInteractive('df-b89e639e-5b92-4db3-a9d8-9a909229af99')\"\n",
              "              title=\"Convert this dataframe to an interactive table.\"\n",
              "              style=\"display:none;\">\n",
              "        \n",
              "  <svg xmlns=\"http://www.w3.org/2000/svg\" height=\"24px\"viewBox=\"0 0 24 24\"\n",
              "       width=\"24px\">\n",
              "    <path d=\"M0 0h24v24H0V0z\" fill=\"none\"/>\n",
              "    <path d=\"M18.56 5.44l.94 2.06.94-2.06 2.06-.94-2.06-.94-.94-2.06-.94 2.06-2.06.94zm-11 1L8.5 8.5l.94-2.06 2.06-.94-2.06-.94L8.5 2.5l-.94 2.06-2.06.94zm10 10l.94 2.06.94-2.06 2.06-.94-2.06-.94-.94-2.06-.94 2.06-2.06.94z\"/><path d=\"M17.41 7.96l-1.37-1.37c-.4-.4-.92-.59-1.43-.59-.52 0-1.04.2-1.43.59L10.3 9.45l-7.72 7.72c-.78.78-.78 2.05 0 2.83L4 21.41c.39.39.9.59 1.41.59.51 0 1.02-.2 1.41-.59l7.78-7.78 2.81-2.81c.8-.78.8-2.07 0-2.86zM5.41 20L4 18.59l7.72-7.72 1.47 1.35L5.41 20z\"/>\n",
              "  </svg>\n",
              "      </button>\n",
              "      \n",
              "  <style>\n",
              "    .colab-df-container {\n",
              "      display:flex;\n",
              "      flex-wrap:wrap;\n",
              "      gap: 12px;\n",
              "    }\n",
              "\n",
              "    .colab-df-convert {\n",
              "      background-color: #E8F0FE;\n",
              "      border: none;\n",
              "      border-radius: 50%;\n",
              "      cursor: pointer;\n",
              "      display: none;\n",
              "      fill: #1967D2;\n",
              "      height: 32px;\n",
              "      padding: 0 0 0 0;\n",
              "      width: 32px;\n",
              "    }\n",
              "\n",
              "    .colab-df-convert:hover {\n",
              "      background-color: #E2EBFA;\n",
              "      box-shadow: 0px 1px 2px rgba(60, 64, 67, 0.3), 0px 1px 3px 1px rgba(60, 64, 67, 0.15);\n",
              "      fill: #174EA6;\n",
              "    }\n",
              "\n",
              "    [theme=dark] .colab-df-convert {\n",
              "      background-color: #3B4455;\n",
              "      fill: #D2E3FC;\n",
              "    }\n",
              "\n",
              "    [theme=dark] .colab-df-convert:hover {\n",
              "      background-color: #434B5C;\n",
              "      box-shadow: 0px 1px 3px 1px rgba(0, 0, 0, 0.15);\n",
              "      filter: drop-shadow(0px 1px 2px rgba(0, 0, 0, 0.3));\n",
              "      fill: #FFFFFF;\n",
              "    }\n",
              "  </style>\n",
              "\n",
              "      <script>\n",
              "        const buttonEl =\n",
              "          document.querySelector('#df-b89e639e-5b92-4db3-a9d8-9a909229af99 button.colab-df-convert');\n",
              "        buttonEl.style.display =\n",
              "          google.colab.kernel.accessAllowed ? 'block' : 'none';\n",
              "\n",
              "        async function convertToInteractive(key) {\n",
              "          const element = document.querySelector('#df-b89e639e-5b92-4db3-a9d8-9a909229af99');\n",
              "          const dataTable =\n",
              "            await google.colab.kernel.invokeFunction('convertToInteractive',\n",
              "                                                     [key], {});\n",
              "          if (!dataTable) return;\n",
              "\n",
              "          const docLinkHtml = 'Like what you see? Visit the ' +\n",
              "            '<a target=\"_blank\" href=https://colab.research.google.com/notebooks/data_table.ipynb>data table notebook</a>'\n",
              "            + ' to learn more about interactive tables.';\n",
              "          element.innerHTML = '';\n",
              "          dataTable['output_type'] = 'display_data';\n",
              "          await google.colab.output.renderOutput(dataTable, element);\n",
              "          const docLink = document.createElement('div');\n",
              "          docLink.innerHTML = docLinkHtml;\n",
              "          element.appendChild(docLink);\n",
              "        }\n",
              "      </script>\n",
              "    </div>\n",
              "  </div>\n",
              "  "
            ]
          },
          "metadata": {},
          "execution_count": 49
        }
      ]
    }
  ]
}