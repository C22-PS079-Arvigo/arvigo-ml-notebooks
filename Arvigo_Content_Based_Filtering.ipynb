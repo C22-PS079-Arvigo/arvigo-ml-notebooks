{
  "nbformat": 4,
  "nbformat_minor": 0,
  "metadata": {
    "colab": {
      "provenance": []
    },
    "kernelspec": {
      "name": "python3",
      "display_name": "Python 3"
    },
    "language_info": {
      "name": "python"
    }
  },
  "cells": [
    {
      "cell_type": "code",
      "source": [
        "import requests\n",
        "import numpy as np\n",
        "import pandas as pd\n",
        "\n",
        "from scipy.sparse import hstack, vstack\n",
        "from sklearn.metrics.pairwise import cosine_similarity\n",
        "from sklearn.feature_extraction.text import TfidfVectorizer"
      ],
      "metadata": {
        "id": "bJz2-xu8yDHE"
      },
      "execution_count": null,
      "outputs": []
    },
    {
      "cell_type": "code",
      "source": [
        "url = 'https://api.arvigo.site/v1/product-recommendation'\n",
        "headers = {'X-API-Key': '4a150010-bac7-46e7-8b8b-594f47b0015c'}\n",
        "response = requests.get(url, headers=headers)"
      ],
      "metadata": {
        "id": "jaxi5ZUcyF4N"
      },
      "execution_count": null,
      "outputs": []
    },
    {
      "cell_type": "code",
      "source": [
        "if response.status_code == 200:\n",
        "    data = response.json()\n",
        "else:\n",
        "    print(f\"Request failed with status code {response.status_code}\")"
      ],
      "metadata": {
        "id": "n6sE6lIJyHbP"
      },
      "execution_count": null,
      "outputs": []
    },
    {
      "cell_type": "code",
      "source": [
        "# Mendefinisikan Banyaknya Rekomendasi Berdasarkan Kemiripan Produk\n",
        "top_recommendation_item = 25"
      ],
      "metadata": {
        "id": "goqauAIMzjVH"
      },
      "execution_count": null,
      "outputs": []
    },
    {
      "cell_type": "code",
      "source": [
        "# Membuat DataFrame dari data\n",
        "data = pd.DataFrame(data['data'])\n",
        "data.head()"
      ],
      "metadata": {
        "colab": {
          "base_uri": "https://localhost:8080/",
          "height": 206
        },
        "id": "C7ic6RPUyo_T",
        "outputId": "e19954d3-2290-43a9-d711-750995372a4e"
      },
      "execution_count": null,
      "outputs": [
        {
          "output_type": "execute_result",
          "data": {
            "text/plain": [
              "   id        name                           description category    brand  \\\n",
              "0   1  Kacamata 1  This is the description of Product 1  Glasses  Emporio   \n",
              "1   2  Kacamata 2  This is the description of Product 2  Glasses   RayBan   \n",
              "2   3  Kacamata 3  This is the description of Product 3  Glasses  Emporio   \n",
              "3   4  Kacamata 4  This is the description of Product 4  Glasses   CHANEL   \n",
              "4   5  Kacamata 5  This is the description of Product 5  Glasses   CHANEL   \n",
              "\n",
              "                      tags                                          merchants  \\\n",
              "0   oval, triangle, oblong  Optik Susi, Optik tik, Optik Merah Putih, Opti...   \n",
              "1  triangle, square, heart  Optik Merah Putih, Optik Sukarno, Optik Susi, ...   \n",
              "2    heart, triangle, oval  Optik Susi, Optik tik, Optik Sukarno, Optik Me...   \n",
              "3    heart, circle, square  Optik Susi, Optik Sukarno, Optik tik, Optik Me...   \n",
              "4   oblong, triangle, oval  Optik tik, Optik Susi, Optik Sukarno, Optik Me...   \n",
              "\n",
              "   clicked  \n",
              "0       20  \n",
              "1        4  \n",
              "2       10  \n",
              "3       98  \n",
              "4        9  "
            ],
            "text/html": [
              "\n",
              "  <div id=\"df-b637bf7b-4669-4687-ac27-3b8bdab6b66f\">\n",
              "    <div class=\"colab-df-container\">\n",
              "      <div>\n",
              "<style scoped>\n",
              "    .dataframe tbody tr th:only-of-type {\n",
              "        vertical-align: middle;\n",
              "    }\n",
              "\n",
              "    .dataframe tbody tr th {\n",
              "        vertical-align: top;\n",
              "    }\n",
              "\n",
              "    .dataframe thead th {\n",
              "        text-align: right;\n",
              "    }\n",
              "</style>\n",
              "<table border=\"1\" class=\"dataframe\">\n",
              "  <thead>\n",
              "    <tr style=\"text-align: right;\">\n",
              "      <th></th>\n",
              "      <th>id</th>\n",
              "      <th>name</th>\n",
              "      <th>description</th>\n",
              "      <th>category</th>\n",
              "      <th>brand</th>\n",
              "      <th>tags</th>\n",
              "      <th>merchants</th>\n",
              "      <th>clicked</th>\n",
              "    </tr>\n",
              "  </thead>\n",
              "  <tbody>\n",
              "    <tr>\n",
              "      <th>0</th>\n",
              "      <td>1</td>\n",
              "      <td>Kacamata 1</td>\n",
              "      <td>This is the description of Product 1</td>\n",
              "      <td>Glasses</td>\n",
              "      <td>Emporio</td>\n",
              "      <td>oval, triangle, oblong</td>\n",
              "      <td>Optik Susi, Optik tik, Optik Merah Putih, Opti...</td>\n",
              "      <td>20</td>\n",
              "    </tr>\n",
              "    <tr>\n",
              "      <th>1</th>\n",
              "      <td>2</td>\n",
              "      <td>Kacamata 2</td>\n",
              "      <td>This is the description of Product 2</td>\n",
              "      <td>Glasses</td>\n",
              "      <td>RayBan</td>\n",
              "      <td>triangle, square, heart</td>\n",
              "      <td>Optik Merah Putih, Optik Sukarno, Optik Susi, ...</td>\n",
              "      <td>4</td>\n",
              "    </tr>\n",
              "    <tr>\n",
              "      <th>2</th>\n",
              "      <td>3</td>\n",
              "      <td>Kacamata 3</td>\n",
              "      <td>This is the description of Product 3</td>\n",
              "      <td>Glasses</td>\n",
              "      <td>Emporio</td>\n",
              "      <td>heart, triangle, oval</td>\n",
              "      <td>Optik Susi, Optik tik, Optik Sukarno, Optik Me...</td>\n",
              "      <td>10</td>\n",
              "    </tr>\n",
              "    <tr>\n",
              "      <th>3</th>\n",
              "      <td>4</td>\n",
              "      <td>Kacamata 4</td>\n",
              "      <td>This is the description of Product 4</td>\n",
              "      <td>Glasses</td>\n",
              "      <td>CHANEL</td>\n",
              "      <td>heart, circle, square</td>\n",
              "      <td>Optik Susi, Optik Sukarno, Optik tik, Optik Me...</td>\n",
              "      <td>98</td>\n",
              "    </tr>\n",
              "    <tr>\n",
              "      <th>4</th>\n",
              "      <td>5</td>\n",
              "      <td>Kacamata 5</td>\n",
              "      <td>This is the description of Product 5</td>\n",
              "      <td>Glasses</td>\n",
              "      <td>CHANEL</td>\n",
              "      <td>oblong, triangle, oval</td>\n",
              "      <td>Optik tik, Optik Susi, Optik Sukarno, Optik Me...</td>\n",
              "      <td>9</td>\n",
              "    </tr>\n",
              "  </tbody>\n",
              "</table>\n",
              "</div>\n",
              "      <button class=\"colab-df-convert\" onclick=\"convertToInteractive('df-b637bf7b-4669-4687-ac27-3b8bdab6b66f')\"\n",
              "              title=\"Convert this dataframe to an interactive table.\"\n",
              "              style=\"display:none;\">\n",
              "        \n",
              "  <svg xmlns=\"http://www.w3.org/2000/svg\" height=\"24px\"viewBox=\"0 0 24 24\"\n",
              "       width=\"24px\">\n",
              "    <path d=\"M0 0h24v24H0V0z\" fill=\"none\"/>\n",
              "    <path d=\"M18.56 5.44l.94 2.06.94-2.06 2.06-.94-2.06-.94-.94-2.06-.94 2.06-2.06.94zm-11 1L8.5 8.5l.94-2.06 2.06-.94-2.06-.94L8.5 2.5l-.94 2.06-2.06.94zm10 10l.94 2.06.94-2.06 2.06-.94-2.06-.94-.94-2.06-.94 2.06-2.06.94z\"/><path d=\"M17.41 7.96l-1.37-1.37c-.4-.4-.92-.59-1.43-.59-.52 0-1.04.2-1.43.59L10.3 9.45l-7.72 7.72c-.78.78-.78 2.05 0 2.83L4 21.41c.39.39.9.59 1.41.59.51 0 1.02-.2 1.41-.59l7.78-7.78 2.81-2.81c.8-.78.8-2.07 0-2.86zM5.41 20L4 18.59l7.72-7.72 1.47 1.35L5.41 20z\"/>\n",
              "  </svg>\n",
              "      </button>\n",
              "      \n",
              "  <style>\n",
              "    .colab-df-container {\n",
              "      display:flex;\n",
              "      flex-wrap:wrap;\n",
              "      gap: 12px;\n",
              "    }\n",
              "\n",
              "    .colab-df-convert {\n",
              "      background-color: #E8F0FE;\n",
              "      border: none;\n",
              "      border-radius: 50%;\n",
              "      cursor: pointer;\n",
              "      display: none;\n",
              "      fill: #1967D2;\n",
              "      height: 32px;\n",
              "      padding: 0 0 0 0;\n",
              "      width: 32px;\n",
              "    }\n",
              "\n",
              "    .colab-df-convert:hover {\n",
              "      background-color: #E2EBFA;\n",
              "      box-shadow: 0px 1px 2px rgba(60, 64, 67, 0.3), 0px 1px 3px 1px rgba(60, 64, 67, 0.15);\n",
              "      fill: #174EA6;\n",
              "    }\n",
              "\n",
              "    [theme=dark] .colab-df-convert {\n",
              "      background-color: #3B4455;\n",
              "      fill: #D2E3FC;\n",
              "    }\n",
              "\n",
              "    [theme=dark] .colab-df-convert:hover {\n",
              "      background-color: #434B5C;\n",
              "      box-shadow: 0px 1px 3px 1px rgba(0, 0, 0, 0.15);\n",
              "      filter: drop-shadow(0px 1px 2px rgba(0, 0, 0, 0.3));\n",
              "      fill: #FFFFFF;\n",
              "    }\n",
              "  </style>\n",
              "\n",
              "      <script>\n",
              "        const buttonEl =\n",
              "          document.querySelector('#df-b637bf7b-4669-4687-ac27-3b8bdab6b66f button.colab-df-convert');\n",
              "        buttonEl.style.display =\n",
              "          google.colab.kernel.accessAllowed ? 'block' : 'none';\n",
              "\n",
              "        async function convertToInteractive(key) {\n",
              "          const element = document.querySelector('#df-b637bf7b-4669-4687-ac27-3b8bdab6b66f');\n",
              "          const dataTable =\n",
              "            await google.colab.kernel.invokeFunction('convertToInteractive',\n",
              "                                                     [key], {});\n",
              "          if (!dataTable) return;\n",
              "\n",
              "          const docLinkHtml = 'Like what you see? Visit the ' +\n",
              "            '<a target=\"_blank\" href=https://colab.research.google.com/notebooks/data_table.ipynb>data table notebook</a>'\n",
              "            + ' to learn more about interactive tables.';\n",
              "          element.innerHTML = '';\n",
              "          dataTable['output_type'] = 'display_data';\n",
              "          await google.colab.output.renderOutput(dataTable, element);\n",
              "          const docLink = document.createElement('div');\n",
              "          docLink.innerHTML = docLinkHtml;\n",
              "          element.appendChild(docLink);\n",
              "        }\n",
              "      </script>\n",
              "    </div>\n",
              "  </div>\n",
              "  "
            ]
          },
          "metadata": {},
          "execution_count": 5
        }
      ]
    },
    {
      "cell_type": "code",
      "execution_count": null,
      "metadata": {
        "id": "wfCLX14Nx-I4"
      },
      "outputs": [],
      "source": [
        "# Menghitung vektor TF-IDF untuk masing-masing komponen dengan bobot yang berbeda\n",
        "tfidf_vectorizer = TfidfVectorizer()\n",
        "\n",
        "# Menghitung vektor TF-IDF untuk kolom 'name', 'category', 'brand', dan 'description'\n",
        "name_tfidf = tfidf_vectorizer.fit_transform(data['name'])\n",
        "category_tfidf = tfidf_vectorizer.fit_transform(data['category'])\n",
        "brand_tfidf = tfidf_vectorizer.fit_transform(data['brand'])\n",
        "description_tfidf = tfidf_vectorizer.fit_transform(data['description'])\n",
        "\n",
        "# Menghitung vektor TF-IDF untuk kolom 'tags'\n",
        "tfidf_vectorizer = TfidfVectorizer(tokenizer=lambda x: x.split(','), token_pattern=r\"(?u)\\b\\w+\\b\")\n",
        "tags_tfidf = tfidf_vectorizer.fit_transform(data['tags'])\n",
        "merchants_tfidf = tfidf_vectorizer.fit_transform(data['merchants'])\n",
        "\n",
        "# Menggabungkan matriks TF-IDF dari setiap komponen\n",
        "weighted_tfidf_matrix = hstack([\n",
        "    2 * category_tfidf,\n",
        "    1.5 * tags_tfidf,\n",
        "    1.2 * brand_tfidf,\n",
        "    1 * name_tfidf,\n",
        "    0.8 * description_tfidf,\n",
        "    0.5 * merchants_tfidf\n",
        "])"
      ]
    },
    {
      "cell_type": "code",
      "source": [
        "# Menghitung kemiripan antar produk menggunakan cosine similarity\n",
        "similarity_matrix = cosine_similarity(weighted_tfidf_matrix, weighted_tfidf_matrix)\n",
        "\n",
        "# Membuat dictionary untuk menyimpan rekomendasi\n",
        "recommendations = {}\n",
        "\n",
        "# Menampilkan hasil kemiripan\n",
        "num_products = len(data)\n",
        "for i in range(num_products):\n",
        "    product_id = data.loc[i, 'id']\n",
        "    similar_products = [(data.loc[j, 'id'], similarity_matrix[i, j]) for j in range(num_products) if i != j]\n",
        "    similar_products = sorted(similar_products, key=lambda x: x[1], reverse=True)[:top_recommendation_item]\n",
        "    recommendations[product_id] = [product for product, _ in similar_products]\n",
        "\n",
        "# Menampilkan output berupa dictionary\n",
        "print(recommendations)"
      ],
      "metadata": {
        "colab": {
          "base_uri": "https://localhost:8080/"
        },
        "id": "PTS97o6kGKHN",
        "outputId": "346a5afa-22c6-41cc-9c4e-dddcb4481c00"
      },
      "execution_count": null,
      "outputs": [
        {
          "output_type": "stream",
          "name": "stdout",
          "text": [
            "{1: [3, 10, 15, 5, 11, 9, 17, 4, 6, 7, 2, 8, 16, 20, 14, 12, 18, 19, 13], 2: [12, 19, 7, 18, 15, 8, 6, 14, 4, 9, 5, 1, 3, 13, 20, 16, 10, 17, 11], 3: [1, 10, 6, 5, 4, 11, 7, 9, 2, 8, 17, 18, 20, 14, 13, 12, 15, 16, 19], 4: [6, 5, 16, 3, 7, 8, 2, 10, 13, 1, 18, 9, 11, 12, 19, 15, 17, 20, 14], 5: [4, 3, 13, 1, 11, 16, 7, 6, 9, 2, 8, 17, 10, 20, 14, 18, 12, 15, 19], 6: [7, 4, 3, 2, 9, 5, 1, 8, 10, 12, 19, 16, 18, 11, 20, 14, 13, 15, 17], 7: [6, 2, 4, 12, 19, 3, 18, 20, 9, 5, 1, 8, 16, 11, 14, 13, 15, 17, 10], 8: [9, 2, 13, 4, 14, 5, 1, 3, 6, 7, 10, 17, 18, 11, 12, 19, 15, 20, 16], 9: [8, 16, 1, 7, 6, 3, 5, 20, 14, 2, 4, 17, 15, 18, 13, 11, 10, 12, 19], 10: [3, 1, 11, 4, 6, 8, 5, 18, 17, 2, 9, 7, 13, 14, 20, 12, 15, 16, 19], 11: [3, 10, 1, 5, 18, 4, 8, 7, 6, 9, 20, 14, 13, 2, 12, 15, 16, 19, 17], 12: [2, 19, 18, 15, 7, 14, 6, 4, 8, 20, 16, 13, 1, 3, 9, 5, 11, 17, 10], 13: [5, 8, 4, 14, 16, 2, 17, 7, 6, 3, 9, 12, 19, 15, 20, 18, 11, 1, 10], 14: [15, 2, 18, 13, 17, 8, 9, 12, 19, 20, 1, 7, 6, 3, 5, 16, 11, 4, 10], 15: [2, 12, 19, 1, 14, 18, 8, 9, 16, 13, 20, 17, 3, 4, 6, 7, 5, 11, 10], 16: [4, 9, 5, 13, 7, 6, 1, 2, 12, 19, 15, 20, 14, 17, 3, 8, 11, 18, 10], 17: [20, 14, 1, 8, 3, 9, 5, 13, 10, 16, 15, 2, 4, 6, 7, 11, 12, 18, 19], 18: [2, 12, 19, 14, 7, 15, 11, 20, 4, 8, 6, 3, 10, 9, 5, 1, 13, 16, 17], 19: [2, 12, 18, 15, 7, 14, 6, 4, 8, 20, 16, 13, 1, 3, 9, 5, 11, 17, 10], 20: [17, 7, 9, 18, 14, 2, 1, 6, 3, 12, 19, 5, 16, 15, 13, 11, 8, 4, 10]}\n"
          ]
        }
      ]
    }
  ]
}